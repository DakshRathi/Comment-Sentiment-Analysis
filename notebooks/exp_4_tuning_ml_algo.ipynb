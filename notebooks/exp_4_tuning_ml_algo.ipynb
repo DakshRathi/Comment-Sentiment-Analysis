{
  "cells": [
    {
      "cell_type": "code",
      "execution_count": null,
      "metadata": {
        "colab": {
          "base_uri": "https://localhost:8080/"
        },
        "id": "nU7NTAS2Mta8",
        "outputId": "bfa994af-6201-4695-8106-3c2b92c0e7ca"
      },
      "outputs": [
        {
          "name": "stdout",
          "output_type": "stream",
          "text": [
            "Collecting mlflow\n",
            "  Downloading mlflow-2.17.0-py3-none-any.whl.metadata (29 kB)\n",
            "Collecting optuna\n",
            "  Downloading optuna-4.0.0-py3-none-any.whl.metadata (16 kB)\n",
            "Collecting dagshub\n",
            "  Downloading dagshub-0.3.40-py3-none-any.whl.metadata (11 kB)\n",
            "Collecting mlflow-skinny==2.17.0 (from mlflow)\n",
            "  Downloading mlflow_skinny-2.17.0-py3-none-any.whl.metadata (30 kB)\n",
            "Requirement already satisfied: Flask<4 in /usr/local/lib/python3.10/dist-packages (from mlflow) (2.2.5)\n",
            "Collecting alembic!=1.10.0,<2 (from mlflow)\n",
            "  Downloading alembic-1.13.3-py3-none-any.whl.metadata (7.4 kB)\n",
            "Collecting docker<8,>=4.0.0 (from mlflow)\n",
            "  Downloading docker-7.1.0-py3-none-any.whl.metadata (3.8 kB)\n",
            "Collecting graphene<4 (from mlflow)\n",
            "  Downloading graphene-3.4-py2.py3-none-any.whl.metadata (6.7 kB)\n",
            "Requirement already satisfied: markdown<4,>=3.3 in /usr/local/lib/python3.10/dist-packages (from mlflow) (3.7)\n",
            "Requirement already satisfied: matplotlib<4 in /usr/local/lib/python3.10/dist-packages (from mlflow) (3.7.1)\n",
            "Requirement already satisfied: numpy<3 in /usr/local/lib/python3.10/dist-packages (from mlflow) (1.26.4)\n",
            "Requirement already satisfied: pandas<3 in /usr/local/lib/python3.10/dist-packages (from mlflow) (2.2.2)\n",
            "Requirement already satisfied: pyarrow<18,>=4.0.0 in /usr/local/lib/python3.10/dist-packages (from mlflow) (16.1.0)\n",
            "Requirement already satisfied: scikit-learn<2 in /usr/local/lib/python3.10/dist-packages (from mlflow) (1.5.2)\n",
            "Requirement already satisfied: scipy<2 in /usr/local/lib/python3.10/dist-packages (from mlflow) (1.13.1)\n",
            "Requirement already satisfied: sqlalchemy<3,>=1.4.0 in /usr/local/lib/python3.10/dist-packages (from mlflow) (2.0.36)\n",
            "Requirement already satisfied: Jinja2<4,>=2.11 in /usr/local/lib/python3.10/dist-packages (from mlflow) (3.1.4)\n",
            "Collecting gunicorn<24 (from mlflow)\n",
            "  Downloading gunicorn-23.0.0-py3-none-any.whl.metadata (4.4 kB)\n",
            "Requirement already satisfied: cachetools<6,>=5.0.0 in /usr/local/lib/python3.10/dist-packages (from mlflow-skinny==2.17.0->mlflow) (5.5.0)\n",
            "Requirement already satisfied: click<9,>=7.0 in /usr/local/lib/python3.10/dist-packages (from mlflow-skinny==2.17.0->mlflow) (8.1.7)\n",
            "Requirement already satisfied: cloudpickle<4 in /usr/local/lib/python3.10/dist-packages (from mlflow-skinny==2.17.0->mlflow) (3.1.0)\n",
            "Collecting databricks-sdk<1,>=0.20.0 (from mlflow-skinny==2.17.0->mlflow)\n",
            "  Downloading databricks_sdk-0.36.0-py3-none-any.whl.metadata (38 kB)\n",
            "Requirement already satisfied: gitpython<4,>=3.1.9 in /usr/local/lib/python3.10/dist-packages (from mlflow-skinny==2.17.0->mlflow) (3.1.43)\n",
            "Requirement already satisfied: importlib-metadata!=4.7.0,<9,>=3.7.0 in /usr/local/lib/python3.10/dist-packages (from mlflow-skinny==2.17.0->mlflow) (8.5.0)\n",
            "Requirement already satisfied: opentelemetry-api<3,>=1.9.0 in /usr/local/lib/python3.10/dist-packages (from mlflow-skinny==2.17.0->mlflow) (1.16.0)\n",
            "Requirement already satisfied: opentelemetry-sdk<3,>=1.9.0 in /usr/local/lib/python3.10/dist-packages (from mlflow-skinny==2.17.0->mlflow) (1.16.0)\n",
            "Requirement already satisfied: packaging<25 in /usr/local/lib/python3.10/dist-packages (from mlflow-skinny==2.17.0->mlflow) (24.1)\n",
            "Requirement already satisfied: protobuf<6,>=3.12.0 in /usr/local/lib/python3.10/dist-packages (from mlflow-skinny==2.17.0->mlflow) (3.20.3)\n",
            "Requirement already satisfied: pyyaml<7,>=5.1 in /usr/local/lib/python3.10/dist-packages (from mlflow-skinny==2.17.0->mlflow) (6.0.2)\n",
            "Requirement already satisfied: requests<3,>=2.17.3 in /usr/local/lib/python3.10/dist-packages (from mlflow-skinny==2.17.0->mlflow) (2.32.3)\n",
            "Requirement already satisfied: sqlparse<1,>=0.4.0 in /usr/local/lib/python3.10/dist-packages (from mlflow-skinny==2.17.0->mlflow) (0.5.1)\n",
            "Collecting colorlog (from optuna)\n",
            "  Downloading colorlog-6.8.2-py3-none-any.whl.metadata (10 kB)\n",
            "Requirement already satisfied: tqdm in /usr/local/lib/python3.10/dist-packages (from optuna) (4.66.5)\n",
            "Collecting appdirs>=1.4.4 (from dagshub)\n",
            "  Downloading appdirs-1.4.4-py2.py3-none-any.whl.metadata (9.0 kB)\n",
            "Collecting httpx>=0.23.0 (from dagshub)\n",
            "  Downloading httpx-0.27.2-py3-none-any.whl.metadata (7.1 kB)\n",
            "Requirement already satisfied: rich>=13.1.0 in /usr/local/lib/python3.10/dist-packages (from dagshub) (13.9.2)\n",
            "Collecting dacite~=1.6.0 (from dagshub)\n",
            "  Downloading dacite-1.6.0-py3-none-any.whl.metadata (14 kB)\n",
            "Requirement already satisfied: tenacity>=8.2.2 in /usr/local/lib/python3.10/dist-packages (from dagshub) (9.0.0)\n",
            "Collecting gql[requests] (from dagshub)\n",
            "  Downloading gql-3.5.0-py2.py3-none-any.whl.metadata (9.2 kB)\n",
            "Collecting dataclasses-json (from dagshub)\n",
            "  Downloading dataclasses_json-0.6.7-py3-none-any.whl.metadata (25 kB)\n",
            "Collecting treelib>=1.6.4 (from dagshub)\n",
            "  Downloading treelib-1.7.0-py3-none-any.whl.metadata (1.3 kB)\n",
            "Collecting pathvalidate>=3.0.0 (from dagshub)\n",
            "  Downloading pathvalidate-3.2.1-py3-none-any.whl.metadata (12 kB)\n",
            "Requirement already satisfied: python-dateutil in /usr/local/lib/python3.10/dist-packages (from dagshub) (2.8.2)\n",
            "Collecting boto3 (from dagshub)\n",
            "  Downloading boto3-1.35.47-py3-none-any.whl.metadata (6.7 kB)\n",
            "Collecting dagshub-annotation-converter>=0.1.0 (from dagshub)\n",
            "  Downloading dagshub_annotation_converter-0.1.1-py3-none-any.whl.metadata (2.5 kB)\n",
            "Collecting Mako (from alembic!=1.10.0,<2->mlflow)\n",
            "  Downloading Mako-1.3.6-py3-none-any.whl.metadata (2.9 kB)\n",
            "Requirement already satisfied: typing-extensions>=4 in /usr/local/lib/python3.10/dist-packages (from alembic!=1.10.0,<2->mlflow) (4.12.2)\n",
            "Requirement already satisfied: lxml in /usr/local/lib/python3.10/dist-packages (from dagshub-annotation-converter>=0.1.0->dagshub) (4.9.4)\n",
            "Requirement already satisfied: pillow in /usr/local/lib/python3.10/dist-packages (from dagshub-annotation-converter>=0.1.0->dagshub) (10.4.0)\n",
            "Requirement already satisfied: pydantic>=2.0.0 in /usr/local/lib/python3.10/dist-packages (from dagshub-annotation-converter>=0.1.0->dagshub) (2.9.2)\n",
            "Requirement already satisfied: urllib3>=1.26.0 in /usr/local/lib/python3.10/dist-packages (from docker<8,>=4.0.0->mlflow) (2.2.3)\n",
            "Requirement already satisfied: Werkzeug>=2.2.2 in /usr/local/lib/python3.10/dist-packages (from Flask<4->mlflow) (3.0.4)\n",
            "Requirement already satisfied: itsdangerous>=2.0 in /usr/local/lib/python3.10/dist-packages (from Flask<4->mlflow) (2.2.0)\n",
            "Requirement already satisfied: gitdb<5,>=4.0.1 in /usr/local/lib/python3.10/dist-packages (from gitpython<4,>=3.1.9->mlflow-skinny==2.17.0->mlflow) (4.0.11)\n",
            "Collecting graphql-core<3.3,>=3.1 (from graphene<4->mlflow)\n",
            "  Downloading graphql_core-3.2.5-py3-none-any.whl.metadata (10 kB)\n",
            "Collecting graphql-relay<3.3,>=3.1 (from graphene<4->mlflow)\n",
            "  Downloading graphql_relay-3.2.0-py3-none-any.whl.metadata (12 kB)\n",
            "Requirement already satisfied: anyio in /usr/local/lib/python3.10/dist-packages (from httpx>=0.23.0->dagshub) (3.7.1)\n",
            "Requirement already satisfied: certifi in /usr/local/lib/python3.10/dist-packages (from httpx>=0.23.0->dagshub) (2024.8.30)\n",
            "Collecting httpcore==1.* (from httpx>=0.23.0->dagshub)\n",
            "  Downloading httpcore-1.0.6-py3-none-any.whl.metadata (21 kB)\n",
            "Requirement already satisfied: idna in /usr/local/lib/python3.10/dist-packages (from httpx>=0.23.0->dagshub) (3.10)\n",
            "Requirement already satisfied: sniffio in /usr/local/lib/python3.10/dist-packages (from httpx>=0.23.0->dagshub) (1.3.1)\n",
            "Collecting h11<0.15,>=0.13 (from httpcore==1.*->httpx>=0.23.0->dagshub)\n",
            "  Downloading h11-0.14.0-py3-none-any.whl.metadata (8.2 kB)\n",
            "Requirement already satisfied: MarkupSafe>=2.0 in /usr/local/lib/python3.10/dist-packages (from Jinja2<4,>=2.11->mlflow) (3.0.2)\n",
            "Requirement already satisfied: contourpy>=1.0.1 in /usr/local/lib/python3.10/dist-packages (from matplotlib<4->mlflow) (1.3.0)\n",
            "Requirement already satisfied: cycler>=0.10 in /usr/local/lib/python3.10/dist-packages (from matplotlib<4->mlflow) (0.12.1)\n",
            "Requirement already satisfied: fonttools>=4.22.0 in /usr/local/lib/python3.10/dist-packages (from matplotlib<4->mlflow) (4.54.1)\n",
            "Requirement already satisfied: kiwisolver>=1.0.1 in /usr/local/lib/python3.10/dist-packages (from matplotlib<4->mlflow) (1.4.7)\n",
            "Requirement already satisfied: pyparsing>=2.3.1 in /usr/local/lib/python3.10/dist-packages (from matplotlib<4->mlflow) (3.2.0)\n",
            "Requirement already satisfied: pytz>=2020.1 in /usr/local/lib/python3.10/dist-packages (from pandas<3->mlflow) (2024.2)\n",
            "Requirement already satisfied: tzdata>=2022.7 in /usr/local/lib/python3.10/dist-packages (from pandas<3->mlflow) (2024.2)\n",
            "Requirement already satisfied: six>=1.5 in /usr/local/lib/python3.10/dist-packages (from python-dateutil->dagshub) (1.16.0)\n",
            "Requirement already satisfied: markdown-it-py>=2.2.0 in /usr/local/lib/python3.10/dist-packages (from rich>=13.1.0->dagshub) (3.0.0)\n",
            "Requirement already satisfied: pygments<3.0.0,>=2.13.0 in /usr/local/lib/python3.10/dist-packages (from rich>=13.1.0->dagshub) (2.18.0)\n",
            "Requirement already satisfied: joblib>=1.2.0 in /usr/local/lib/python3.10/dist-packages (from scikit-learn<2->mlflow) (1.4.2)\n",
            "Requirement already satisfied: threadpoolctl>=3.1.0 in /usr/local/lib/python3.10/dist-packages (from scikit-learn<2->mlflow) (3.5.0)\n",
            "Requirement already satisfied: greenlet!=0.4.17 in /usr/local/lib/python3.10/dist-packages (from sqlalchemy<3,>=1.4.0->mlflow) (3.1.1)\n",
            "Collecting botocore<1.36.0,>=1.35.47 (from boto3->dagshub)\n",
            "  Downloading botocore-1.35.47-py3-none-any.whl.metadata (5.7 kB)\n",
            "Collecting jmespath<2.0.0,>=0.7.1 (from boto3->dagshub)\n",
            "  Downloading jmespath-1.0.1-py3-none-any.whl.metadata (7.6 kB)\n",
            "Collecting s3transfer<0.11.0,>=0.10.0 (from boto3->dagshub)\n",
            "  Downloading s3transfer-0.10.3-py3-none-any.whl.metadata (1.7 kB)\n",
            "Collecting marshmallow<4.0.0,>=3.18.0 (from dataclasses-json->dagshub)\n",
            "  Downloading marshmallow-3.23.0-py3-none-any.whl.metadata (7.6 kB)\n",
            "Collecting typing-inspect<1,>=0.4.0 (from dataclasses-json->dagshub)\n",
            "  Downloading typing_inspect-0.9.0-py3-none-any.whl.metadata (1.5 kB)\n",
            "Requirement already satisfied: yarl<2.0,>=1.6 in /usr/local/lib/python3.10/dist-packages (from gql[requests]->dagshub) (1.16.0)\n",
            "Collecting backoff<3.0,>=1.11.1 (from gql[requests]->dagshub)\n",
            "  Downloading backoff-2.2.1-py3-none-any.whl.metadata (14 kB)\n",
            "Collecting requests-toolbelt<2,>=1.0.0 (from gql[requests]->dagshub)\n",
            "  Downloading requests_toolbelt-1.0.0-py2.py3-none-any.whl.metadata (14 kB)\n",
            "Requirement already satisfied: exceptiongroup in /usr/local/lib/python3.10/dist-packages (from anyio->httpx>=0.23.0->dagshub) (1.2.2)\n",
            "Requirement already satisfied: google-auth~=2.0 in /usr/local/lib/python3.10/dist-packages (from databricks-sdk<1,>=0.20.0->mlflow-skinny==2.17.0->mlflow) (2.27.0)\n",
            "Requirement already satisfied: smmap<6,>=3.0.1 in /usr/local/lib/python3.10/dist-packages (from gitdb<5,>=4.0.1->gitpython<4,>=3.1.9->mlflow-skinny==2.17.0->mlflow) (5.0.1)\n",
            "Requirement already satisfied: zipp>=3.20 in /usr/local/lib/python3.10/dist-packages (from importlib-metadata!=4.7.0,<9,>=3.7.0->mlflow-skinny==2.17.0->mlflow) (3.20.2)\n",
            "Requirement already satisfied: mdurl~=0.1 in /usr/local/lib/python3.10/dist-packages (from markdown-it-py>=2.2.0->rich>=13.1.0->dagshub) (0.1.2)\n",
            "Requirement already satisfied: deprecated>=1.2.6 in /usr/local/lib/python3.10/dist-packages (from opentelemetry-api<3,>=1.9.0->mlflow-skinny==2.17.0->mlflow) (1.2.14)\n",
            "Requirement already satisfied: setuptools>=16.0 in /usr/local/lib/python3.10/dist-packages (from opentelemetry-api<3,>=1.9.0->mlflow-skinny==2.17.0->mlflow) (75.1.0)\n",
            "Requirement already satisfied: opentelemetry-semantic-conventions==0.37b0 in /usr/local/lib/python3.10/dist-packages (from opentelemetry-sdk<3,>=1.9.0->mlflow-skinny==2.17.0->mlflow) (0.37b0)\n",
            "Requirement already satisfied: annotated-types>=0.6.0 in /usr/local/lib/python3.10/dist-packages (from pydantic>=2.0.0->dagshub-annotation-converter>=0.1.0->dagshub) (0.7.0)\n",
            "Requirement already satisfied: pydantic-core==2.23.4 in /usr/local/lib/python3.10/dist-packages (from pydantic>=2.0.0->dagshub-annotation-converter>=0.1.0->dagshub) (2.23.4)\n",
            "Requirement already satisfied: charset-normalizer<4,>=2 in /usr/local/lib/python3.10/dist-packages (from requests<3,>=2.17.3->mlflow-skinny==2.17.0->mlflow) (3.4.0)\n",
            "Collecting mypy-extensions>=0.3.0 (from typing-inspect<1,>=0.4.0->dataclasses-json->dagshub)\n",
            "  Downloading mypy_extensions-1.0.0-py3-none-any.whl.metadata (1.1 kB)\n",
            "Requirement already satisfied: multidict>=4.0 in /usr/local/lib/python3.10/dist-packages (from yarl<2.0,>=1.6->gql[requests]->dagshub) (6.1.0)\n",
            "Requirement already satisfied: propcache>=0.2.0 in /usr/local/lib/python3.10/dist-packages (from yarl<2.0,>=1.6->gql[requests]->dagshub) (0.2.0)\n",
            "Requirement already satisfied: wrapt<2,>=1.10 in /usr/local/lib/python3.10/dist-packages (from deprecated>=1.2.6->opentelemetry-api<3,>=1.9.0->mlflow-skinny==2.17.0->mlflow) (1.16.0)\n",
            "Requirement already satisfied: pyasn1-modules>=0.2.1 in /usr/local/lib/python3.10/dist-packages (from google-auth~=2.0->databricks-sdk<1,>=0.20.0->mlflow-skinny==2.17.0->mlflow) (0.4.1)\n",
            "Requirement already satisfied: rsa<5,>=3.1.4 in /usr/local/lib/python3.10/dist-packages (from google-auth~=2.0->databricks-sdk<1,>=0.20.0->mlflow-skinny==2.17.0->mlflow) (4.9)\n",
            "Requirement already satisfied: pyasn1<0.7.0,>=0.4.6 in /usr/local/lib/python3.10/dist-packages (from pyasn1-modules>=0.2.1->google-auth~=2.0->databricks-sdk<1,>=0.20.0->mlflow-skinny==2.17.0->mlflow) (0.6.1)\n",
            "Downloading mlflow-2.17.0-py3-none-any.whl (26.7 MB)\n",
            "\u001b[2K   \u001b[90m━━━━━━━━━━━━━━━━━━━━━━━━━━━━━━━━━━━━━━━━\u001b[0m \u001b[32m26.7/26.7 MB\u001b[0m \u001b[31m16.7 MB/s\u001b[0m eta \u001b[36m0:00:00\u001b[0m\n",
            "\u001b[?25hDownloading mlflow_skinny-2.17.0-py3-none-any.whl (5.7 MB)\n",
            "\u001b[2K   \u001b[90m━━━━━━━━━━━━━━━━━━━━━━━━━━━━━━━━━━━━━━━━\u001b[0m \u001b[32m5.7/5.7 MB\u001b[0m \u001b[31m14.5 MB/s\u001b[0m eta \u001b[36m0:00:00\u001b[0m\n",
            "\u001b[?25hDownloading optuna-4.0.0-py3-none-any.whl (362 kB)\n",
            "\u001b[2K   \u001b[90m━━━━━━━━━━━━━━━━━━━━━━━━━━━━━━━━━━━━━━━━\u001b[0m \u001b[32m362.8/362.8 kB\u001b[0m \u001b[31m17.3 MB/s\u001b[0m eta \u001b[36m0:00:00\u001b[0m\n",
            "\u001b[?25hDownloading dagshub-0.3.40-py3-none-any.whl (250 kB)\n",
            "\u001b[2K   \u001b[90m━━━━━━━━━━━━━━━━━━━━━━━━━━━━━━━━━━━━━━━━\u001b[0m \u001b[32m251.0/251.0 kB\u001b[0m \u001b[31m7.4 MB/s\u001b[0m eta \u001b[36m0:00:00\u001b[0m\n",
            "\u001b[?25hDownloading alembic-1.13.3-py3-none-any.whl (233 kB)\n",
            "\u001b[2K   \u001b[90m━━━━━━━━━━━━━━━━━━━━━━━━━━━━━━━━━━━━━━━━\u001b[0m \u001b[32m233.2/233.2 kB\u001b[0m \u001b[31m13.2 MB/s\u001b[0m eta \u001b[36m0:00:00\u001b[0m\n",
            "\u001b[?25hDownloading appdirs-1.4.4-py2.py3-none-any.whl (9.6 kB)\n",
            "Downloading dacite-1.6.0-py3-none-any.whl (12 kB)\n",
            "Downloading dagshub_annotation_converter-0.1.1-py3-none-any.whl (32 kB)\n",
            "Downloading docker-7.1.0-py3-none-any.whl (147 kB)\n",
            "\u001b[2K   \u001b[90m━━━━━━━━━━━━━━━━━━━━━━━━━━━━━━━━━━━━━━━━\u001b[0m \u001b[32m147.8/147.8 kB\u001b[0m \u001b[31m7.2 MB/s\u001b[0m eta \u001b[36m0:00:00\u001b[0m\n",
            "\u001b[?25hDownloading graphene-3.4-py2.py3-none-any.whl (114 kB)\n",
            "\u001b[2K   \u001b[90m━━━━━━━━━━━━━━━━━━━━━━━━━━━━━━━━━━━━━━━━\u001b[0m \u001b[32m114.6/114.6 kB\u001b[0m \u001b[31m8.5 MB/s\u001b[0m eta \u001b[36m0:00:00\u001b[0m\n",
            "\u001b[?25hDownloading gunicorn-23.0.0-py3-none-any.whl (85 kB)\n",
            "\u001b[2K   \u001b[90m━━━━━━━━━━━━━━━━━━━━━━━━━━━━━━━━━━━━━━━━\u001b[0m \u001b[32m85.0/85.0 kB\u001b[0m \u001b[31m1.8 MB/s\u001b[0m eta \u001b[36m0:00:00\u001b[0m\n",
            "\u001b[?25hDownloading httpx-0.27.2-py3-none-any.whl (76 kB)\n",
            "\u001b[2K   \u001b[90m━━━━━━━━━━━━━━━━━━━━━━━━━━━━━━━━━━━━━━━━\u001b[0m \u001b[32m76.4/76.4 kB\u001b[0m \u001b[31m6.3 MB/s\u001b[0m eta \u001b[36m0:00:00\u001b[0m\n",
            "\u001b[?25hDownloading httpcore-1.0.6-py3-none-any.whl (78 kB)\n",
            "\u001b[2K   \u001b[90m━━━━━━━━━━━━━━━━━━━━━━━━━━━━━━━━━━━━━━━━\u001b[0m \u001b[32m78.0/78.0 kB\u001b[0m \u001b[31m5.8 MB/s\u001b[0m eta \u001b[36m0:00:00\u001b[0m\n",
            "\u001b[?25hDownloading pathvalidate-3.2.1-py3-none-any.whl (23 kB)\n",
            "Downloading treelib-1.7.0-py3-none-any.whl (18 kB)\n",
            "Downloading boto3-1.35.47-py3-none-any.whl (139 kB)\n",
            "\u001b[2K   \u001b[90m━━━━━━━━━━━━━━━━━━━━━━━━━━━━━━━━━━━━━━━━\u001b[0m \u001b[32m139.2/139.2 kB\u001b[0m \u001b[31m9.1 MB/s\u001b[0m eta \u001b[36m0:00:00\u001b[0m\n",
            "\u001b[?25hDownloading colorlog-6.8.2-py3-none-any.whl (11 kB)\n",
            "Downloading dataclasses_json-0.6.7-py3-none-any.whl (28 kB)\n",
            "Downloading backoff-2.2.1-py3-none-any.whl (15 kB)\n",
            "Downloading botocore-1.35.47-py3-none-any.whl (12.6 MB)\n",
            "\u001b[2K   \u001b[90m━━━━━━━━━━━━━━━━━━━━━━━━━━━━━━━━━━━━━━━━\u001b[0m \u001b[32m12.6/12.6 MB\u001b[0m \u001b[31m24.1 MB/s\u001b[0m eta \u001b[36m0:00:00\u001b[0m\n",
            "\u001b[?25hDownloading databricks_sdk-0.36.0-py3-none-any.whl (569 kB)\n",
            "\u001b[2K   \u001b[90m━━━━━━━━━━━━━━━━━━━━━━━━━━━━━━━━━━━━━━━━\u001b[0m \u001b[32m569.1/569.1 kB\u001b[0m \u001b[31m23.9 MB/s\u001b[0m eta \u001b[36m0:00:00\u001b[0m\n",
            "\u001b[?25hDownloading graphql_core-3.2.5-py3-none-any.whl (203 kB)\n",
            "\u001b[2K   \u001b[90m━━━━━━━━━━━━━━━━━━━━━━━━━━━━━━━━━━━━━━━━\u001b[0m \u001b[32m203.2/203.2 kB\u001b[0m \u001b[31m6.5 MB/s\u001b[0m eta \u001b[36m0:00:00\u001b[0m\n",
            "\u001b[?25hDownloading graphql_relay-3.2.0-py3-none-any.whl (16 kB)\n",
            "Downloading jmespath-1.0.1-py3-none-any.whl (20 kB)\n",
            "Downloading marshmallow-3.23.0-py3-none-any.whl (49 kB)\n",
            "\u001b[2K   \u001b[90m━━━━━━━━━━━━━━━━━━━━━━━━━━━━━━━━━━━━━━━━\u001b[0m \u001b[32m49.5/49.5 kB\u001b[0m \u001b[31m1.4 MB/s\u001b[0m eta \u001b[36m0:00:00\u001b[0m\n",
            "\u001b[?25hDownloading requests_toolbelt-1.0.0-py2.py3-none-any.whl (54 kB)\n",
            "\u001b[2K   \u001b[90m━━━━━━━━━━━━━━━━━━━━━━━━━━━━━━━━━━━━━━━━\u001b[0m \u001b[32m54.5/54.5 kB\u001b[0m \u001b[31m3.2 MB/s\u001b[0m eta \u001b[36m0:00:00\u001b[0m\n",
            "\u001b[?25hDownloading s3transfer-0.10.3-py3-none-any.whl (82 kB)\n",
            "\u001b[2K   \u001b[90m━━━━━━━━━━━━━━━━━━━━━━━━━━━━━━━━━━━━━━━━\u001b[0m \u001b[32m82.6/82.6 kB\u001b[0m \u001b[31m4.6 MB/s\u001b[0m eta \u001b[36m0:00:00\u001b[0m\n",
            "\u001b[?25hDownloading typing_inspect-0.9.0-py3-none-any.whl (8.8 kB)\n",
            "Downloading gql-3.5.0-py2.py3-none-any.whl (74 kB)\n",
            "\u001b[2K   \u001b[90m━━━━━━━━━━━━━━━━━━━━━━━━━━━━━━━━━━━━━━━━\u001b[0m \u001b[32m74.0/74.0 kB\u001b[0m \u001b[31m4.5 MB/s\u001b[0m eta \u001b[36m0:00:00\u001b[0m\n",
            "\u001b[?25hDownloading Mako-1.3.6-py3-none-any.whl (78 kB)\n",
            "\u001b[2K   \u001b[90m━━━━━━━━━━━━━━━━━━━━━━━━━━━━━━━━━━━━━━━━\u001b[0m \u001b[32m78.6/78.6 kB\u001b[0m \u001b[31m3.4 MB/s\u001b[0m eta \u001b[36m0:00:00\u001b[0m\n",
            "\u001b[?25hDownloading h11-0.14.0-py3-none-any.whl (58 kB)\n",
            "\u001b[2K   \u001b[90m━━━━━━━━━━━━━━━━━━━━━━━━━━━━━━━━━━━━━━━━\u001b[0m \u001b[32m58.3/58.3 kB\u001b[0m \u001b[31m2.7 MB/s\u001b[0m eta \u001b[36m0:00:00\u001b[0m\n",
            "\u001b[?25hDownloading mypy_extensions-1.0.0-py3-none-any.whl (4.7 kB)\n",
            "Installing collected packages: appdirs, treelib, pathvalidate, mypy-extensions, marshmallow, Mako, jmespath, h11, gunicorn, graphql-core, dacite, colorlog, backoff, typing-inspect, requests-toolbelt, httpcore, graphql-relay, docker, botocore, alembic, s3transfer, optuna, httpx, graphene, gql, dataclasses-json, databricks-sdk, dagshub-annotation-converter, mlflow-skinny, boto3, mlflow, dagshub\n",
            "Successfully installed Mako-1.3.6 alembic-1.13.3 appdirs-1.4.4 backoff-2.2.1 boto3-1.35.47 botocore-1.35.47 colorlog-6.8.2 dacite-1.6.0 dagshub-0.3.40 dagshub-annotation-converter-0.1.1 databricks-sdk-0.36.0 dataclasses-json-0.6.7 docker-7.1.0 gql-3.5.0 graphene-3.4 graphql-core-3.2.5 graphql-relay-3.2.0 gunicorn-23.0.0 h11-0.14.0 httpcore-1.0.6 httpx-0.27.2 jmespath-1.0.1 marshmallow-3.23.0 mlflow-2.17.0 mlflow-skinny-2.17.0 mypy-extensions-1.0.0 optuna-4.0.0 pathvalidate-3.2.1 requests-toolbelt-1.0.0 s3transfer-0.10.3 treelib-1.7.0 typing-inspect-0.9.0\n"
          ]
        }
      ],
      "source": [
        "!pip install mlflow optuna dagshub"
      ]
    },
    {
      "cell_type": "code",
      "execution_count": null,
      "metadata": {
        "colab": {
          "base_uri": "https://localhost:8080/",
          "height": 212,
          "referenced_widgets": [
            "d8cca92ac2b74709b5b6a095fb61db8a",
            "e7362dfcf69e4a67b5e8f2619d15cead"
          ]
        },
        "id": "Mr45vyGrbH3o",
        "outputId": "de413ac9-05d1-466e-ce8a-09bd6a412ba9"
      },
      "outputs": [
        {
          "data": {
            "text/html": [
              "<pre style=\"white-space:pre;overflow-x:auto;line-height:normal;font-family:Menlo,'DejaVu Sans Mono',consolas,'Courier New',monospace\">                                       <span style=\"font-weight: bold\">❗❗❗ AUTHORIZATION REQUIRED ❗❗❗</span>                                        \n",
              "</pre>\n"
            ],
            "text/plain": [
              "                                       \u001b[1m❗❗❗ AUTHORIZATION REQUIRED ❗❗❗\u001b[0m                                        \n"
            ]
          },
          "metadata": {},
          "output_type": "display_data"
        },
        {
          "data": {
            "application/vnd.jupyter.widget-view+json": {
              "model_id": "d8cca92ac2b74709b5b6a095fb61db8a",
              "version_major": 2,
              "version_minor": 0
            },
            "text/plain": [
              "Output()"
            ]
          },
          "metadata": {},
          "output_type": "display_data"
        },
        {
          "name": "stdout",
          "output_type": "stream",
          "text": [
            "\n",
            "\n",
            "Open the following link in your browser to authorize the client:\n",
            "https://dagshub.com/login/oauth/authorize?state=6c36bdaf-c950-47a0-a6f3-995ec7d3e6ca&client_id=32b60ba385aa7cecf24046d8195a71c07dd345d9657977863b52e7748e0f0f28&middleman_request_id=cda0a74f7c9842732b96ff87c2ac1198cca63883d1ddf33be4dd1310edc40d8a\n",
            "\n",
            "\n"
          ]
        },
        {
          "data": {
            "text/html": [
              "<pre style=\"white-space:pre;overflow-x:auto;line-height:normal;font-family:Menlo,'DejaVu Sans Mono',consolas,'Courier New',monospace\"></pre>\n"
            ],
            "text/plain": []
          },
          "metadata": {},
          "output_type": "display_data"
        },
        {
          "data": {
            "text/html": [
              "<pre style=\"white-space:pre;overflow-x:auto;line-height:normal;font-family:Menlo,'DejaVu Sans Mono',consolas,'Courier New',monospace\">Accessing as dakshvandanarathi\n",
              "</pre>\n"
            ],
            "text/plain": [
              "Accessing as dakshvandanarathi\n"
            ]
          },
          "metadata": {},
          "output_type": "display_data"
        },
        {
          "data": {
            "text/html": [
              "<pre style=\"white-space:pre;overflow-x:auto;line-height:normal;font-family:Menlo,'DejaVu Sans Mono',consolas,'Courier New',monospace\">Initialized MLflow to track repo <span style=\"color: #008000; text-decoration-color: #008000\">\"dakshvandanarathi/YT-Sentiment-Analyser\"</span>\n",
              "</pre>\n"
            ],
            "text/plain": [
              "Initialized MLflow to track repo \u001b[32m\"dakshvandanarathi/YT-Sentiment-Analyser\"\u001b[0m\n"
            ]
          },
          "metadata": {},
          "output_type": "display_data"
        },
        {
          "data": {
            "text/html": [
              "<pre style=\"white-space:pre;overflow-x:auto;line-height:normal;font-family:Menlo,'DejaVu Sans Mono',consolas,'Courier New',monospace\">Repository dakshvandanarathi/YT-Sentiment-Analyser initialized!\n",
              "</pre>\n"
            ],
            "text/plain": [
              "Repository dakshvandanarathi/YT-Sentiment-Analyser initialized!\n"
            ]
          },
          "metadata": {},
          "output_type": "display_data"
        }
      ],
      "source": [
        "import dagshub\n",
        "dagshub.init(repo_owner='dakshvandanarathi', repo_name='YT-Sentiment-Analyser', mlflow=True)"
      ]
    },
    {
      "cell_type": "code",
      "execution_count": null,
      "metadata": {
        "id": "4uuO21DuNTpB"
      },
      "outputs": [],
      "source": [
        "import numpy as np\n",
        "import pandas as pd\n",
        "from sklearn.feature_extraction.text import TfidfVectorizer\n",
        "from sklearn.model_selection import StratifiedKFold, train_test_split\n",
        "from sklearn.ensemble import RandomForestClassifier\n",
        "from sklearn.metrics import accuracy_score, classification_report, confusion_matrix\n",
        "from sklearn.metrics import f1_score, accuracy_score\n",
        "from imblearn.over_sampling import ADASYN\n",
        "import mlflow\n",
        "import mlflow.sklearn\n",
        "import optuna\n",
        "import seaborn as sns\n",
        "import matplotlib.pyplot as plt"
      ]
    },
    {
      "cell_type": "code",
      "execution_count": null,
      "metadata": {
        "colab": {
          "base_uri": "https://localhost:8080/"
        },
        "id": "fFQmSXn-NRSd",
        "outputId": "ca76abd6-8dfb-4812-f7b4-5a2a26ea67c0"
      },
      "outputs": [
        {
          "data": {
            "text/plain": [
              "<Experiment: artifact_location='mlflow-artifacts:/498f75c0643c4aa2b0e490aca486b20a', creation_time=1729654450594, experiment_id='5', last_update_time=1729654450594, lifecycle_stage='active', name='Exp 4 - ML Algos with HP Tuning', tags={}>"
            ]
          },
          "execution_count": 5,
          "metadata": {},
          "output_type": "execute_result"
        }
      ],
      "source": [
        "# Set or create an experiment\n",
        "mlflow.set_experiment(\"Exp 4 - ML Algos with HP Tuning\")"
      ]
    },
    {
      "cell_type": "code",
      "execution_count": null,
      "metadata": {
        "colab": {
          "base_uri": "https://localhost:8080/"
        },
        "id": "-5y38KliNmzU",
        "outputId": "6cb0a52a-728d-4e87-f8c7-8d17043a50b3"
      },
      "outputs": [
        {
          "data": {
            "text/plain": [
              "(36662, 5)"
            ]
          },
          "execution_count": 6,
          "metadata": {},
          "output_type": "execute_result"
        }
      ],
      "source": [
        "df = pd.read_csv('/content/preprocessed_data.csv').dropna()\n",
        "df.shape"
      ]
    },
    {
      "cell_type": "markdown",
      "metadata": {
        "id": "ADVLjqy9JXDb"
      },
      "source": [
        "### Vectorization and Resampling"
      ]
    },
    {
      "cell_type": "code",
      "execution_count": null,
      "metadata": {
        "id": "g1zeW2UycTRM"
      },
      "outputs": [],
      "source": [
        "# Define a function to vectorize the data using TF-IDF\n",
        "def vectorize_data(X_train, X_val, X_test, max_features, ngram_range):\n",
        "    vectorizer = TfidfVectorizer(max_features=max_features, ngram_range=ngram_range)\n",
        "    X_train_vec = vectorizer.fit_transform(X_train['comment']).toarray()\n",
        "    X_val_vec = vectorizer.transform(X_val['comment']).toarray()\n",
        "    X_test_vec = vectorizer.transform(X_test['comment']).toarray()\n",
        "\n",
        "    # Combine additional features\n",
        "    X_train_combined = np.hstack([X_train_vec, X_train[['word_count', 'char_count', 'avg_word_length']].values])\n",
        "    X_val_combined = np.hstack([X_val_vec, X_val[['word_count', 'char_count', 'avg_word_length']].values])\n",
        "    X_test_combined = np.hstack([X_test_vec, X_test[['word_count', 'char_count', 'avg_word_length']].values])\n",
        "\n",
        "    return X_train_combined, X_val_combined, X_test_combined"
      ]
    },
    {
      "cell_type": "code",
      "execution_count": null,
      "metadata": {
        "id": "mvGZ2fYrcaT6"
      },
      "outputs": [],
      "source": [
        "max_features = 1006\n",
        "ngram_range = (1, 2)\n",
        "\n",
        "# Split data into training, validation and testing sets\n",
        "X = df[['comment', 'word_count', 'char_count', 'avg_word_length']]\n",
        "y = df['category']\n",
        "\n",
        "X_train, X_temp, y_train, y_temp = train_test_split(X, y, test_size=0.25, random_state=42, stratify=y)\n",
        "X_val, X_test, y_val, y_test = train_test_split(X_temp, y_temp, test_size=0.4, random_state=42, stratify=y_temp)\n",
        "\n",
        "# Vectorize the data\n",
        "X_train_combined, X_val_combined, X_test_combined = vectorize_data(X_train, X_val, X_test, max_features, ngram_range)"
      ]
    },
    {
      "cell_type": "code",
      "execution_count": null,
      "metadata": {
        "id": "8j8s6tLVeSYY"
      },
      "outputs": [],
      "source": [
        "# Apply resampling technique\n",
        "X_resampled, y_resampled = ADASYN(random_state=42).fit_resample(X_train_combined, y_train)"
      ]
    },
    {
      "cell_type": "markdown",
      "metadata": {
        "id": "5AAZEbYXJM8x"
      },
      "source": [
        "### Helper Functions"
      ]
    },
    {
      "cell_type": "code",
      "execution_count": null,
      "metadata": {
        "id": "ShLpkmv5f6gx"
      },
      "outputs": [],
      "source": [
        "# Define the function that evaluates the model on validation data\n",
        "def evaluate_model(model, X_val, y_val):\n",
        "    y_val_pred = model.predict(X_val)  # Predict on validation set\n",
        "    f1 = f1_score(y_val, y_val_pred, average='macro')  # Calculate F1 (macro)\n",
        "    accuracy = accuracy_score(y_val, y_val_pred)  # Calculate accuracy\n",
        "    return f1, accuracy"
      ]
    },
    {
      "cell_type": "markdown",
      "metadata": {
        "id": "WDeyp0DSIlUt"
      },
      "source": [
        "### Random Forest"
      ]
    },
    {
      "cell_type": "code",
      "execution_count": null,
      "metadata": {
        "id": "B7A8Ks-Ge2dn"
      },
      "outputs": [],
      "source": [
        "# Define the Optuna objective function\n",
        "def objective(trial):\n",
        "    # Hyperparameters to optimize\n",
        "    n_estimators = trial.suggest_int(\"n_estimators\", 50, 500, step = 10)\n",
        "    max_depth = trial.suggest_int(\"max_depth\", 5, 51, step = 2)\n",
        "    min_samples_split = trial.suggest_int(\"min_samples_split\", 2, 20)\n",
        "    min_samples_leaf = trial.suggest_int(\"min_samples_leaf\", 1, 10)\n",
        "    max_features = trial.suggest_categorical(\"max_features\", [\"sqrt\", \"log2\"])\n",
        "\n",
        "    # Initialize the Random Forest model with the suggested hyperparameters\n",
        "    model = RandomForestClassifier(\n",
        "        n_estimators=n_estimators,\n",
        "        max_depth=max_depth,\n",
        "        min_samples_split=min_samples_split,\n",
        "        min_samples_leaf=min_samples_leaf,\n",
        "        max_features=max_features,\n",
        "        random_state=42\n",
        "    )\n",
        "\n",
        "    # Fit the model on the resampled training data\n",
        "    model.fit(X_resampled, y_resampled)\n",
        "\n",
        "    # Evaluate the model on the validation set\n",
        "    f1, accuracy = evaluate_model(model, X_val_combined, y_val)\n",
        "\n",
        "    return accuracy, f1"
      ]
    },
    {
      "cell_type": "code",
      "execution_count": null,
      "metadata": {
        "colab": {
          "base_uri": "https://localhost:8080/"
        },
        "id": "ezp8g_k8gpUk",
        "outputId": "bea7e904-35f2-42ff-ac8b-053c79ab118e"
      },
      "outputs": [
        {
          "name": "stderr",
          "output_type": "stream",
          "text": [
            "[I 2024-10-23 06:06:06,894] A new study created in memory with name: Random_Forest_Optimization\n",
            "[I 2024-10-23 06:06:44,424] Trial 0 finished with values: [0.7448627023095108, 0.720028018969344] and parameters: {'n_estimators': 100, 'max_depth': 51, 'min_samples_split': 18, 'min_samples_leaf': 4, 'max_features': 'sqrt'}.\n",
            "[I 2024-10-23 06:07:30,683] Trial 1 finished with values: [0.7024913620658302, 0.6762297720572708] and parameters: {'n_estimators': 390, 'max_depth': 37, 'min_samples_split': 12, 'min_samples_leaf': 8, 'max_features': 'log2'}.\n",
            "[I 2024-10-23 06:08:43,265] Trial 2 finished with values: [0.7041280232769594, 0.6760985467663584] and parameters: {'n_estimators': 310, 'max_depth': 21, 'min_samples_split': 2, 'min_samples_leaf': 1, 'max_features': 'sqrt'}.\n",
            "[I 2024-10-23 06:09:05,402] Trial 3 finished with values: [0.7021276595744681, 0.6742923489673277] and parameters: {'n_estimators': 190, 'max_depth': 33, 'min_samples_split': 3, 'min_samples_leaf': 5, 'max_features': 'log2'}.\n",
            "[I 2024-10-23 06:09:25,986] Trial 4 finished with values: [0.7350427350427351, 0.7080160631549325] and parameters: {'n_estimators': 60, 'max_depth': 43, 'min_samples_split': 4, 'min_samples_leaf': 7, 'max_features': 'sqrt'}.\n",
            "[I 2024-10-23 06:09:42,543] Trial 5 finished with values: [0.6523004182578651, 0.6182701293774329] and parameters: {'n_estimators': 290, 'max_depth': 13, 'min_samples_split': 5, 'min_samples_leaf': 8, 'max_features': 'log2'}.\n",
            "[I 2024-10-23 06:11:58,423] Trial 6 finished with values: [0.7408619749045281, 0.7164270851232345] and parameters: {'n_estimators': 390, 'max_depth': 49, 'min_samples_split': 3, 'min_samples_leaf': 8, 'max_features': 'sqrt'}.\n",
            "[I 2024-10-23 06:12:09,919] Trial 7 finished with values: [0.6619385342789598, 0.6294329968163921] and parameters: {'n_estimators': 70, 'max_depth': 13, 'min_samples_split': 6, 'min_samples_leaf': 1, 'max_features': 'sqrt'}.\n",
            "[I 2024-10-23 06:12:13,997] Trial 8 finished with values: [0.6332060374613566, 0.5942891666009923] and parameters: {'n_estimators': 150, 'max_depth': 5, 'min_samples_split': 11, 'min_samples_leaf': 6, 'max_features': 'log2'}.\n",
            "[I 2024-10-23 06:14:07,504] Trial 9 finished with values: [0.7212220403709766, 0.6938160827433957] and parameters: {'n_estimators': 400, 'max_depth': 29, 'min_samples_split': 20, 'min_samples_leaf': 3, 'max_features': 'sqrt'}.\n",
            "[I 2024-10-23 06:14:29,062] Trial 10 finished with values: [0.6583015093653392, 0.6251025220154771] and parameters: {'n_estimators': 310, 'max_depth': 17, 'min_samples_split': 17, 'min_samples_leaf': 8, 'max_features': 'log2'}.\n",
            "[I 2024-10-23 06:15:19,579] Trial 11 finished with values: [0.6606655755591926, 0.6273120791565058] and parameters: {'n_estimators': 360, 'max_depth': 11, 'min_samples_split': 7, 'min_samples_leaf': 2, 'max_features': 'sqrt'}.\n",
            "[I 2024-10-23 06:16:41,437] Trial 12 finished with values: [0.7023095108201491, 0.6736478345532905] and parameters: {'n_estimators': 360, 'max_depth': 21, 'min_samples_split': 4, 'min_samples_leaf': 3, 'max_features': 'sqrt'}.\n",
            "[I 2024-10-23 06:16:48,101] Trial 13 finished with values: [0.6392071285688307, 0.6005720323047455] and parameters: {'n_estimators': 180, 'max_depth': 7, 'min_samples_split': 15, 'min_samples_leaf': 9, 'max_features': 'log2'}.\n",
            "[I 2024-10-23 06:17:06,014] Trial 14 finished with values: [0.6855791962174941, 0.6575917884501775] and parameters: {'n_estimators': 190, 'max_depth': 27, 'min_samples_split': 6, 'min_samples_leaf': 9, 'max_features': 'log2'}.\n",
            "[I 2024-10-23 06:19:28,109] Trial 15 finished with values: [0.723404255319149, 0.6969305124438024] and parameters: {'n_estimators': 500, 'max_depth': 27, 'min_samples_split': 8, 'min_samples_leaf': 1, 'max_features': 'sqrt'}.\n",
            "[I 2024-10-23 06:21:31,873] Trial 16 finished with values: [0.7152209492635024, 0.6877961262755657] and parameters: {'n_estimators': 460, 'max_depth': 27, 'min_samples_split': 6, 'min_samples_leaf': 7, 'max_features': 'sqrt'}.\n",
            "[I 2024-10-23 06:21:49,852] Trial 17 finished with values: [0.7312238588834333, 0.7057617136121195] and parameters: {'n_estimators': 50, 'max_depth': 47, 'min_samples_split': 7, 'min_samples_leaf': 10, 'max_features': 'sqrt'}.\n",
            "[I 2024-10-23 06:22:46,104] Trial 18 finished with values: [0.71303873431533, 0.6859223537367747] and parameters: {'n_estimators': 440, 'max_depth': 39, 'min_samples_split': 10, 'min_samples_leaf': 5, 'max_features': 'log2'}.\n",
            "[I 2024-10-23 06:24:39,293] Trial 19 finished with values: [0.7335879250772868, 0.70681858465313] and parameters: {'n_estimators': 340, 'max_depth': 39, 'min_samples_split': 19, 'min_samples_leaf': 4, 'max_features': 'sqrt'}.\n",
            "[I 2024-10-23 06:26:31,283] Trial 20 finished with values: [0.7019458083287871, 0.6738887794591254] and parameters: {'n_estimators': 500, 'max_depth': 21, 'min_samples_split': 11, 'min_samples_leaf': 7, 'max_features': 'sqrt'}.\n",
            "[I 2024-10-23 06:28:30,758] Trial 21 finished with values: [0.7350427350427351, 0.708936111518769] and parameters: {'n_estimators': 370, 'max_depth': 39, 'min_samples_split': 11, 'min_samples_leaf': 6, 'max_features': 'sqrt'}.\n",
            "[I 2024-10-23 06:29:23,693] Trial 22 finished with values: [0.6999454446262957, 0.6735452961142604] and parameters: {'n_estimators': 450, 'max_depth': 35, 'min_samples_split': 10, 'min_samples_leaf': 8, 'max_features': 'log2'}.\n",
            "[I 2024-10-23 06:29:41,494] Trial 23 finished with values: [0.6433897072194944, 0.608312767413087] and parameters: {'n_estimators': 360, 'max_depth': 11, 'min_samples_split': 2, 'min_samples_leaf': 10, 'max_features': 'log2'}.\n",
            "[I 2024-10-23 06:30:53,076] Trial 24 finished with values: [0.6830332787779596, 0.6542084517540712] and parameters: {'n_estimators': 370, 'max_depth': 17, 'min_samples_split': 17, 'min_samples_leaf': 7, 'max_features': 'sqrt'}.\n",
            "[I 2024-10-23 06:30:58,047] Trial 25 finished with values: [0.6892162211311148, 0.6576154329735127] and parameters: {'n_estimators': 50, 'max_depth': 29, 'min_samples_split': 12, 'min_samples_leaf': 3, 'max_features': 'log2'}.\n",
            "[I 2024-10-23 06:31:15,371] Trial 26 finished with values: [0.6986724859065284, 0.6683737732200404] and parameters: {'n_estimators': 150, 'max_depth': 33, 'min_samples_split': 18, 'min_samples_leaf': 4, 'max_features': 'log2'}.\n",
            "[I 2024-10-23 06:31:31,677] Trial 27 finished with values: [0.6555737406801236, 0.620756460106368] and parameters: {'n_estimators': 270, 'max_depth': 13, 'min_samples_split': 10, 'min_samples_leaf': 6, 'max_features': 'log2'}.\n",
            "[I 2024-10-23 06:33:02,071] Trial 28 finished with values: [0.7134024368066921, 0.6854721887855036] and parameters: {'n_estimators': 360, 'max_depth': 25, 'min_samples_split': 18, 'min_samples_leaf': 4, 'max_features': 'sqrt'}.\n",
            "[I 2024-10-23 06:33:12,998] Trial 29 finished with values: [0.7281323877068558, 0.7035190090002251] and parameters: {'n_estimators': 80, 'max_depth': 47, 'min_samples_split': 12, 'min_samples_leaf': 5, 'max_features': 'log2'}.\n",
            "[I 2024-10-23 06:33:29,651] Trial 30 finished with values: [0.7052191307510457, 0.677243614078488] and parameters: {'n_estimators': 130, 'max_depth': 37, 'min_samples_split': 20, 'min_samples_leaf': 6, 'max_features': 'log2'}.\n",
            "[I 2024-10-23 06:34:09,443] Trial 31 finished with values: [0.6768503364248045, 0.6450646383510906] and parameters: {'n_estimators': 230, 'max_depth': 15, 'min_samples_split': 15, 'min_samples_leaf': 6, 'max_features': 'sqrt'}.\n",
            "[I 2024-10-23 06:34:17,263] Trial 32 finished with values: [0.6348426986724859, 0.5922732013838071] and parameters: {'n_estimators': 300, 'max_depth': 5, 'min_samples_split': 3, 'min_samples_leaf': 3, 'max_features': 'log2'}.\n",
            "[I 2024-10-23 06:35:01,243] Trial 33 finished with values: [0.6888525186397527, 0.6605363629700224] and parameters: {'n_estimators': 430, 'max_depth': 27, 'min_samples_split': 12, 'min_samples_leaf': 6, 'max_features': 'log2'}.\n",
            "[I 2024-10-23 06:35:08,247] Trial 34 finished with values: [0.6417530460083651, 0.6073432168951579] and parameters: {'n_estimators': 170, 'max_depth': 9, 'min_samples_split': 7, 'min_samples_leaf': 5, 'max_features': 'log2'}.\n",
            "[I 2024-10-23 06:36:31,679] Trial 35 finished with values: [0.7466812147663211, 0.7215792834862826] and parameters: {'n_estimators': 230, 'max_depth': 51, 'min_samples_split': 11, 'min_samples_leaf': 6, 'max_features': 'sqrt'}.\n",
            "[I 2024-10-23 06:37:15,761] Trial 36 finished with values: [0.6381160210947445, 0.6003100614155019] and parameters: {'n_estimators': 470, 'max_depth': 7, 'min_samples_split': 14, 'min_samples_leaf': 8, 'max_features': 'sqrt'}.\n",
            "[I 2024-10-23 06:37:38,452] Trial 37 finished with values: [0.6759410801963993, 0.6454503709559174] and parameters: {'n_estimators': 130, 'max_depth': 15, 'min_samples_split': 4, 'min_samples_leaf': 2, 'max_features': 'sqrt'}.\n",
            "[I 2024-10-23 06:39:04,676] Trial 38 finished with values: [0.7074013456992181, 0.6791998930730747] and parameters: {'n_estimators': 360, 'max_depth': 23, 'min_samples_split': 16, 'min_samples_leaf': 2, 'max_features': 'sqrt'}.\n",
            "[I 2024-10-23 06:40:16,559] Trial 39 finished with values: [0.701582105837425, 0.6728801873676572] and parameters: {'n_estimators': 320, 'max_depth': 21, 'min_samples_split': 11, 'min_samples_leaf': 7, 'max_features': 'sqrt'}.\n",
            "[I 2024-10-23 06:40:49,443] Trial 40 finished with values: [0.6823058737952356, 0.6528945866072485] and parameters: {'n_estimators': 360, 'max_depth': 25, 'min_samples_split': 10, 'min_samples_leaf': 8, 'max_features': 'log2'}.\n",
            "[I 2024-10-23 06:41:21,936] Trial 41 finished with values: [0.7286779414438989, 0.7006032646216448] and parameters: {'n_estimators': 220, 'max_depth': 47, 'min_samples_split': 19, 'min_samples_leaf': 3, 'max_features': 'log2'}.\n",
            "[I 2024-10-23 06:43:05,615] Trial 42 finished with values: [0.7250409165302782, 0.6998787288946967] and parameters: {'n_estimators': 360, 'max_depth': 33, 'min_samples_split': 20, 'min_samples_leaf': 8, 'max_features': 'sqrt'}.\n",
            "[I 2024-10-23 06:44:06,883] Trial 43 finished with values: [0.7439534460811057, 0.7167057517931269] and parameters: {'n_estimators': 160, 'max_depth': 47, 'min_samples_split': 11, 'min_samples_leaf': 2, 'max_features': 'sqrt'}.\n",
            "[I 2024-10-23 06:45:08,366] Trial 44 finished with values: [0.668121476632115, 0.6369012331725125] and parameters: {'n_estimators': 380, 'max_depth': 13, 'min_samples_split': 8, 'min_samples_leaf': 7, 'max_features': 'sqrt'}.\n",
            "[I 2024-10-23 06:45:58,859] Trial 45 finished with values: [0.7326786688488817, 0.7079346429579201] and parameters: {'n_estimators': 330, 'max_depth': 51, 'min_samples_split': 19, 'min_samples_leaf': 4, 'max_features': 'log2'}.\n",
            "[I 2024-10-23 06:47:43,134] Trial 46 finished with values: [0.7319512638661575, 0.7046605003649155] and parameters: {'n_estimators': 330, 'max_depth': 35, 'min_samples_split': 7, 'min_samples_leaf': 3, 'max_features': 'sqrt'}.\n",
            "[I 2024-10-23 06:48:42,610] Trial 47 finished with values: [0.7066739407164939, 0.6780017302321047] and parameters: {'n_estimators': 250, 'max_depth': 23, 'min_samples_split': 15, 'min_samples_leaf': 7, 'max_features': 'sqrt'}.\n",
            "[I 2024-10-23 06:49:07,562] Trial 48 finished with values: [0.7195853791598472, 0.6930541638691765] and parameters: {'n_estimators': 90, 'max_depth': 27, 'min_samples_split': 4, 'min_samples_leaf': 1, 'max_features': 'sqrt'}.\n",
            "[I 2024-10-23 06:49:23,155] Trial 49 finished with values: [0.7044917257683215, 0.6762573013591746] and parameters: {'n_estimators': 130, 'max_depth': 35, 'min_samples_split': 9, 'min_samples_leaf': 5, 'max_features': 'log2'}.\n",
            "[I 2024-10-23 06:49:32,132] Trial 50 finished with values: [0.7023095108201491, 0.6741327293141613] and parameters: {'n_estimators': 70, 'max_depth': 35, 'min_samples_split': 14, 'min_samples_leaf': 4, 'max_features': 'log2'}.\n",
            "[I 2024-10-23 06:50:11,355] Trial 51 finished with values: [0.7164939079832697, 0.6892892871882782] and parameters: {'n_estimators': 300, 'max_depth': 39, 'min_samples_split': 6, 'min_samples_leaf': 4, 'max_features': 'log2'}.\n",
            "[I 2024-10-23 06:51:35,801] Trial 52 finished with values: [0.745771958537916, 0.7205011775419495] and parameters: {'n_estimators': 230, 'max_depth': 51, 'min_samples_split': 20, 'min_samples_leaf': 6, 'max_features': 'sqrt'}.\n",
            "[I 2024-10-23 06:53:53,875] Trial 53 finished with values: [0.7372249499909075, 0.7100437812096684] and parameters: {'n_estimators': 400, 'max_depth': 41, 'min_samples_split': 16, 'min_samples_leaf': 3, 'max_features': 'sqrt'}.\n",
            "[I 2024-10-23 06:56:19,118] Trial 54 finished with values: [0.7441352973267867, 0.7179268954543012] and parameters: {'n_estimators': 390, 'max_depth': 47, 'min_samples_split': 20, 'min_samples_leaf': 4, 'max_features': 'sqrt'}.\n",
            "[I 2024-10-23 06:56:35,805] Trial 55 finished with values: [0.707037643207856, 0.6816116743255131] and parameters: {'n_estimators': 130, 'max_depth': 37, 'min_samples_split': 10, 'min_samples_leaf': 8, 'max_features': 'log2'}.\n",
            "[I 2024-10-23 06:56:43,603] Trial 56 finished with values: [0.7114020731042008, 0.6851369080312874] and parameters: {'n_estimators': 60, 'max_depth': 43, 'min_samples_split': 12, 'min_samples_leaf': 7, 'max_features': 'log2'}.\n",
            "[I 2024-10-23 06:57:06,922] Trial 57 finished with values: [0.7223131478450627, 0.6966902538312808] and parameters: {'n_estimators': 160, 'max_depth': 47, 'min_samples_split': 11, 'min_samples_leaf': 5, 'max_features': 'log2'}.\n",
            "[I 2024-10-23 06:58:59,834] Trial 58 finished with values: [0.7337697763229678, 0.7067701911549958] and parameters: {'n_estimators': 340, 'max_depth': 39, 'min_samples_split': 10, 'min_samples_leaf': 4, 'max_features': 'sqrt'}.\n",
            "[I 2024-10-23 07:00:32,842] Trial 59 finished with values: [0.7154028005091835, 0.6872875668067944] and parameters: {'n_estimators': 360, 'max_depth': 25, 'min_samples_split': 12, 'min_samples_leaf': 4, 'max_features': 'sqrt'}.\n",
            "[I 2024-10-23 07:01:44,384] Trial 60 finished with values: [0.6993998908892526, 0.6713919342748148] and parameters: {'n_estimators': 320, 'max_depth': 21, 'min_samples_split': 19, 'min_samples_leaf': 8, 'max_features': 'sqrt'}.\n",
            "[I 2024-10-23 07:01:48,805] Trial 61 finished with values: [0.6375704673577014, 0.5958322685232992] and parameters: {'n_estimators': 160, 'max_depth': 5, 'min_samples_split': 4, 'min_samples_leaf': 2, 'max_features': 'log2'}.\n",
            "[I 2024-10-23 07:02:38,322] Trial 62 finished with values: [0.6893980723767957, 0.6614363448373751] and parameters: {'n_estimators': 500, 'max_depth': 27, 'min_samples_split': 12, 'min_samples_leaf': 8, 'max_features': 'log2'}.\n",
            "[I 2024-10-23 07:03:00,471] Trial 63 finished with values: [0.6993998908892526, 0.6687490378380995] and parameters: {'n_estimators': 190, 'max_depth': 33, 'min_samples_split': 20, 'min_samples_leaf': 5, 'max_features': 'log2'}.\n",
            "[I 2024-10-23 07:03:14,476] Trial 64 finished with values: [0.7110383706128387, 0.6814312493508689] and parameters: {'n_estimators': 50, 'max_depth': 27, 'min_samples_split': 19, 'min_samples_leaf': 1, 'max_features': 'sqrt'}.\n",
            "[I 2024-10-23 07:04:43,093] Trial 65 finished with values: [0.6790325513729769, 0.6480983784460763] and parameters: {'n_estimators': 500, 'max_depth': 15, 'min_samples_split': 18, 'min_samples_leaf': 4, 'max_features': 'sqrt'}.\n",
            "[I 2024-10-23 07:06:26,424] Trial 66 finished with values: [0.7144935442807783, 0.6857326472678261] and parameters: {'n_estimators': 400, 'max_depth': 25, 'min_samples_split': 18, 'min_samples_leaf': 3, 'max_features': 'sqrt'}.\n",
            "[I 2024-10-23 07:06:38,147] Trial 67 finished with values: [0.6759410801963993, 0.6459860612562117] and parameters: {'n_estimators': 130, 'max_depth': 21, 'min_samples_split': 4, 'min_samples_leaf': 7, 'max_features': 'log2'}.\n",
            "[I 2024-10-23 07:07:03,486] Trial 68 finished with values: [0.6288416075650118, 0.5891705628418108] and parameters: {'n_estimators': 360, 'max_depth': 5, 'min_samples_split': 6, 'min_samples_leaf': 3, 'max_features': 'sqrt'}.\n",
            "[I 2024-10-23 07:10:22,015] Trial 69 finished with values: [0.7484997272231315, 0.7223637923874994] and parameters: {'n_estimators': 500, 'max_depth': 51, 'min_samples_split': 19, 'min_samples_leaf': 1, 'max_features': 'sqrt'}.\n",
            "[I 2024-10-23 07:11:35,652] Trial 70 finished with values: [0.701582105837425, 0.6728801873676572] and parameters: {'n_estimators': 320, 'max_depth': 21, 'min_samples_split': 9, 'min_samples_leaf': 7, 'max_features': 'sqrt'}.\n",
            "[I 2024-10-23 07:13:59,437] Trial 71 finished with values: [0.7303146026550282, 0.7041940680056701] and parameters: {'n_estimators': 440, 'max_depth': 37, 'min_samples_split': 11, 'min_samples_leaf': 6, 'max_features': 'sqrt'}.\n",
            "[I 2024-10-23 07:15:22,434] Trial 72 finished with values: [0.7023095108201491, 0.6736478345532905] and parameters: {'n_estimators': 360, 'max_depth': 21, 'min_samples_split': 5, 'min_samples_leaf': 3, 'max_features': 'sqrt'}.\n",
            "[I 2024-10-23 07:17:45,781] Trial 73 finished with values: [0.7397708674304418, 0.7141436555129129] and parameters: {'n_estimators': 390, 'max_depth': 49, 'min_samples_split': 3, 'min_samples_leaf': 7, 'max_features': 'sqrt'}.\n",
            "[I 2024-10-23 07:18:40,600] Trial 74 finished with values: [0.7066739407164939, 0.6791571770687762] and parameters: {'n_estimators': 440, 'max_depth': 37, 'min_samples_split': 10, 'min_samples_leaf': 5, 'max_features': 'log2'}.\n",
            "[I 2024-10-23 07:18:57,663] Trial 75 finished with values: [0.7312238588834333, 0.7057617136121195] and parameters: {'n_estimators': 50, 'max_depth': 47, 'min_samples_split': 17, 'min_samples_leaf': 10, 'max_features': 'sqrt'}.\n",
            "[I 2024-10-23 07:20:43,245] Trial 76 finished with values: [0.734679032551373, 0.7090174512744164] and parameters: {'n_estimators': 320, 'max_depth': 39, 'min_samples_split': 15, 'min_samples_leaf': 6, 'max_features': 'sqrt'}.\n",
            "[I 2024-10-23 07:21:37,921] Trial 77 finished with values: [0.7177668667030369, 0.693099017007075] and parameters: {'n_estimators': 390, 'max_depth': 47, 'min_samples_split': 3, 'min_samples_leaf': 8, 'max_features': 'log2'}.\n",
            "[I 2024-10-23 07:23:53,357] Trial 78 finished with values: [0.7166757592289508, 0.6888477556048348] and parameters: {'n_estimators': 490, 'max_depth': 27, 'min_samples_split': 8, 'min_samples_leaf': 3, 'max_features': 'sqrt'}.\n",
            "[I 2024-10-23 07:24:55,137] Trial 79 finished with values: [0.6855791962174941, 0.6552983014730428] and parameters: {'n_estimators': 310, 'max_depth': 17, 'min_samples_split': 11, 'min_samples_leaf': 2, 'max_features': 'sqrt'}.\n",
            "[I 2024-10-23 07:25:40,784] Trial 80 finished with values: [0.7308601563920712, 0.704478195891754] and parameters: {'n_estimators': 130, 'max_depth': 37, 'min_samples_split': 20, 'min_samples_leaf': 1, 'max_features': 'sqrt'}.\n",
            "[I 2024-10-23 07:26:20,044] Trial 81 finished with values: [0.7023095108201491, 0.6733284455910843] and parameters: {'n_estimators': 330, 'max_depth': 33, 'min_samples_split': 19, 'min_samples_leaf': 4, 'max_features': 'log2'}.\n",
            "[I 2024-10-23 07:27:14,910] Trial 82 finished with values: [0.7177668667030369, 0.693099017007075] and parameters: {'n_estimators': 390, 'max_depth': 47, 'min_samples_split': 6, 'min_samples_leaf': 8, 'max_features': 'log2'}.\n",
            "[I 2024-10-23 07:28:56,337] Trial 83 finished with values: [0.7190398254228041, 0.6916516730902819] and parameters: {'n_estimators': 360, 'max_depth': 27, 'min_samples_split': 7, 'min_samples_leaf': 2, 'max_features': 'sqrt'}.\n",
            "[I 2024-10-23 07:30:50,585] Trial 84 finished with values: [0.7306783051463902, 0.7059430019837603] and parameters: {'n_estimators': 360, 'max_depth': 37, 'min_samples_split': 20, 'min_samples_leaf': 8, 'max_features': 'sqrt'}.\n",
            "[I 2024-10-23 07:31:45,594] Trial 85 finished with values: [0.7063102382251318, 0.6791052923221566] and parameters: {'n_estimators': 460, 'max_depth': 35, 'min_samples_split': 6, 'min_samples_leaf': 6, 'max_features': 'log2'}.\n",
            "[I 2024-10-23 07:32:24,063] Trial 86 finished with values: [0.7430441898527005, 0.717826706153149] and parameters: {'n_estimators': 100, 'max_depth': 51, 'min_samples_split': 18, 'min_samples_leaf': 6, 'max_features': 'sqrt'}.\n",
            "[I 2024-10-23 07:32:43,437] Trial 87 finished with values: [0.7139479905437353, 0.6870646738306084] and parameters: {'n_estimators': 70, 'max_depth': 27, 'min_samples_split': 16, 'min_samples_leaf': 7, 'max_features': 'sqrt'}.\n",
            "[I 2024-10-23 07:32:58,700] Trial 88 finished with values: [0.6590289143480633, 0.6254219782713619] and parameters: {'n_estimators': 230, 'max_depth': 15, 'min_samples_split': 20, 'min_samples_leaf': 6, 'max_features': 'log2'}.\n",
            "[I 2024-10-23 07:33:31,340] Trial 89 finished with values: [0.6781232951445717, 0.6466706839908453] and parameters: {'n_estimators': 180, 'max_depth': 15, 'min_samples_split': 15, 'min_samples_leaf': 6, 'max_features': 'sqrt'}.\n",
            "[I 2024-10-23 07:34:28,511] Trial 90 finished with values: [0.7214038916166575, 0.6968176940001821] and parameters: {'n_estimators': 190, 'max_depth': 33, 'min_samples_split': 20, 'min_samples_leaf': 8, 'max_features': 'sqrt'}.\n",
            "[I 2024-10-23 07:36:50,375] Trial 91 finished with values: [0.7314057101291144, 0.7057661439906419] and parameters: {'n_estimators': 450, 'max_depth': 35, 'min_samples_split': 18, 'min_samples_leaf': 4, 'max_features': 'sqrt'}.\n",
            "[I 2024-10-23 07:37:34,204] Trial 92 finished with values: [0.7141298417894163, 0.6874029029146264] and parameters: {'n_estimators': 160, 'max_depth': 27, 'min_samples_split': 11, 'min_samples_leaf': 6, 'max_features': 'sqrt'}.\n",
            "[I 2024-10-23 07:37:55,612] Trial 93 finished with values: [0.7417712311329333, 0.7153494318237783] and parameters: {'n_estimators': 60, 'max_depth': 49, 'min_samples_split': 4, 'min_samples_leaf': 7, 'max_features': 'sqrt'}.\n",
            "[I 2024-10-23 07:38:31,418] Trial 94 finished with values: [0.7312238588834333, 0.7032605906267944] and parameters: {'n_estimators': 220, 'max_depth': 51, 'min_samples_split': 19, 'min_samples_leaf': 2, 'max_features': 'log2'}.\n",
            "[I 2024-10-23 07:40:28,333] Trial 95 finished with values: [0.7350427350427351, 0.7085417774319103] and parameters: {'n_estimators': 340, 'max_depth': 39, 'min_samples_split': 14, 'min_samples_leaf': 4, 'max_features': 'sqrt'}.\n",
            "[I 2024-10-23 07:42:48,834] Trial 96 finished with values: [0.7217675941080196, 0.6956949913834783] and parameters: {'n_estimators': 500, 'max_depth': 27, 'min_samples_split': 10, 'min_samples_leaf': 1, 'max_features': 'sqrt'}.\n",
            "[I 2024-10-23 07:43:00,478] Trial 97 finished with values: [0.7246772140389162, 0.6997623877044078] and parameters: {'n_estimators': 80, 'max_depth': 47, 'min_samples_split': 19, 'min_samples_leaf': 4, 'max_features': 'log2'}.\n",
            "[I 2024-10-23 07:43:58,224] Trial 98 finished with values: [0.7370430987452264, 0.7109603543836203] and parameters: {'n_estimators': 160, 'max_depth': 47, 'min_samples_split': 11, 'min_samples_leaf': 7, 'max_features': 'sqrt'}.\n",
            "[I 2024-10-23 07:45:56,711] Trial 99 finished with values: [0.735224586288416, 0.7086950148769205] and parameters: {'n_estimators': 360, 'max_depth': 37, 'min_samples_split': 10, 'min_samples_leaf': 4, 'max_features': 'sqrt'}.\n"
          ]
        }
      ],
      "source": [
        "# Run Optuna optimization\n",
        "study = optuna.create_study(directions=[\"maximize\", \"maximize\"], study_name = \"Random_Forest_Optimization\")  # Multi-objective optimization for both F1 and accuracy\n",
        "study.optimize(objective, n_trials=100)"
      ]
    },
    {
      "cell_type": "code",
      "execution_count": null,
      "metadata": {
        "colab": {
          "base_uri": "https://localhost:8080/"
        },
        "id": "ltyF662FIr4o",
        "outputId": "7f245898-ad86-4c9c-dacd-dc0dab1ab415"
      },
      "outputs": [
        {
          "name": "stderr",
          "output_type": "stream",
          "text": [
            "2024/10/23 08:37:10 INFO mlflow.tracking._tracking_service.client: 🏃 View run Random Forest at: https://dagshub.com/dakshvandanarathi/YT-Sentiment-Analyser.mlflow/#/experiments/5/runs/9494a0dddc9b4b68819756b55e31d56c.\n",
            "2024/10/23 08:37:10 INFO mlflow.tracking._tracking_service.client: 🧪 View experiment at: https://dagshub.com/dakshvandanarathi/YT-Sentiment-Analyser.mlflow/#/experiments/5.\n"
          ]
        }
      ],
      "source": [
        "best_trial = sorted(study.best_trials, key=lambda t: t.values[0], reverse=True)[0]\n",
        "\n",
        "with mlflow.start_run() as run:\n",
        "    mlflow.set_tag(\"mlflow.runName\", \"Random Forest\")\n",
        "    mlflow.set_tag(\"resampling_technique\", \"Adasyn\")\n",
        "    mlflow.set_tag(\"vectorizer_type\", \"TF-IDF\")\n",
        "\n",
        "    # Log best trial parameters\n",
        "    mlflow.log_params(best_trial.params)\n",
        "\n",
        "    # Extract parameters from the best trial\n",
        "    best_params = best_trial.params\n",
        "\n",
        "    # Initialize the model using the best trial parameters with unpacking (**)\n",
        "    model = RandomForestClassifier(random_state=42, **best_trial.params)\n",
        "\n",
        "    # Train the model on the resampled training data\n",
        "    model.fit(X_resampled, y_resampled)\n",
        "\n",
        "    # Predictions on the test set\n",
        "    y_test_pred = model.predict(X_test_combined)\n",
        "\n",
        "    # Log classification metrics\n",
        "    classification_rep = classification_report(y_test, y_test_pred, output_dict=True)\n",
        "    accuracy = accuracy_score(y_test, y_test_pred)\n",
        "\n",
        "    # Log accuracy\n",
        "    mlflow.log_metric(\"accuracy\", accuracy)\n",
        "\n",
        "    # Log each metric from classification report\n",
        "    for label, metrics in classification_rep.items():\n",
        "        if isinstance(metrics, dict):\n",
        "            for metric, value in metrics.items():\n",
        "                mlflow.log_metric(f\"{label}_{metric}\", value)\n",
        "\n",
        "    # Generate and log confusion matrix\n",
        "    conf_matrix = confusion_matrix(y_test, y_test_pred)\n",
        "    plt.figure(figsize=(8, 6))\n",
        "    sns.heatmap(conf_matrix, annot=True, fmt=\"d\", cmap=\"Blues\")\n",
        "    plt.xlabel(\"Predicted\")\n",
        "    plt.ylabel(\"Actual\")\n",
        "    plt.title(f\"Confusion Matrix - Random Forest\")\n",
        "\n",
        "    # Save and log the confusion matrix plot\n",
        "    confusion_matrix_filename = \"confusion_matrix.png\"\n",
        "    plt.savefig(confusion_matrix_filename)\n",
        "    mlflow.log_artifact(confusion_matrix_filename)\n",
        "    plt.close()"
      ]
    },
    {
      "cell_type": "markdown",
      "metadata": {
        "id": "W4FEpYVJIcje"
      },
      "source": [
        "### Logistic Regression"
      ]
    },
    {
      "cell_type": "code",
      "execution_count": null,
      "metadata": {
        "id": "97tfjVqxHVwY"
      },
      "outputs": [],
      "source": [
        "from sklearn.linear_model import LogisticRegression\n",
        "\n",
        "# Define the Optuna objective function for Logistic Regression\n",
        "def objective_logistic_regression(trial):\n",
        "    # Hyperparameters to optimize\n",
        "    penalty = trial.suggest_categorical(\"penalty\", [\"l1\", \"l2\"])\n",
        "    C = trial.suggest_float(\"C\", 1e-5, 1e5, log = True)  # Inverse of regularization strength\n",
        "\n",
        "    # Initialize the Logistic Regression model with the suggested hyperparameters\n",
        "    model = LogisticRegression(\n",
        "        penalty=penalty,\n",
        "        C=C,\n",
        "        solver='liblinear',\n",
        "        random_state=42)\n",
        "\n",
        "    # Fit the model on the resampled training data\n",
        "    model.fit(X_resampled, y_resampled)\n",
        "\n",
        "    # Evaluate the model on the validation set\n",
        "    f1, accuracy = evaluate_model(model, X_val_combined, y_val)\n",
        "\n",
        "    return accuracy, f1"
      ]
    },
    {
      "cell_type": "code",
      "execution_count": null,
      "metadata": {
        "colab": {
          "base_uri": "https://localhost:8080/"
        },
        "id": "h6vNhs9kIXnn",
        "outputId": "99eac0ab-787f-440b-cb04-8387f51c8447"
      },
      "outputs": [
        {
          "name": "stderr",
          "output_type": "stream",
          "text": [
            "[I 2024-10-23 09:47:24,588] A new study created in memory with name: Logistic_Regression_Optimization\n",
            "[I 2024-10-23 09:47:45,452] Trial 0 finished with values: [0.7995999272595017, 0.7819231904644509] and parameters: {'penalty': 'l1', 'C': 35617.10143195622}.\n",
            "[I 2024-10-23 09:47:47,397] Trial 1 finished with values: [0.7983269685397345, 0.7806265024162333] and parameters: {'penalty': 'l2', 'C': 4213.02938052691}.\n",
            "[I 2024-10-23 09:47:49,842] Trial 2 finished with values: [0.7986906710310966, 0.7810631691581748] and parameters: {'penalty': 'l2', 'C': 30262.263613967545}.\n",
            "[I 2024-10-23 09:48:01,532] Trial 3 finished with values: [0.7995999272595017, 0.7819231904644509] and parameters: {'penalty': 'l1', 'C': 5547.831160681699}.\n",
            "[I 2024-10-23 09:48:13,988] Trial 4 finished with values: [0.8001454809965448, 0.7824172208549541] and parameters: {'penalty': 'l1', 'C': 40.64299647929848}.\n",
            "[I 2024-10-23 09:48:22,790] Trial 5 finished with values: [0.8081469358065103, 0.7907890135676885] and parameters: {'penalty': 'l1', 'C': 0.7042205653126988}.\n",
            "/usr/local/lib/python3.10/dist-packages/sklearn/svm/_base.py:1235: ConvergenceWarning: Liblinear failed to converge, increase the number of iterations.\n",
            "  warnings.warn(\n",
            "[I 2024-10-23 09:48:24,502] Trial 6 finished with values: [0.51936715766503, 0.46383316008987535] and parameters: {'penalty': 'l1', 'C': 0.00619530254145149}.\n",
            "[I 2024-10-23 09:48:26,404] Trial 7 finished with values: [0.7986906710310966, 0.7810237853848384] and parameters: {'penalty': 'l2', 'C': 8.124167613884243}.\n",
            "/usr/local/lib/python3.10/dist-packages/sklearn/svm/_base.py:1235: ConvergenceWarning: Liblinear failed to converge, increase the number of iterations.\n",
            "  warnings.warn(\n",
            "[I 2024-10-23 09:48:29,462] Trial 8 finished with values: [0.6728496090198218, 0.6454414619749475] and parameters: {'penalty': 'l1', 'C': 0.02878445060606666}.\n",
            "[I 2024-10-23 09:48:40,542] Trial 9 finished with values: [0.8001454809965448, 0.782485373431225] and parameters: {'penalty': 'l1', 'C': 384.87406474744824}.\n",
            "[I 2024-10-23 09:48:42,958] Trial 10 finished with values: [0.7968721585742863, 0.7792408214566447] and parameters: {'penalty': 'l2', 'C': 8.808896399045993}.\n",
            "[I 2024-10-23 09:48:45,023] Trial 11 finished with values: [0.7963266048372432, 0.7780246745920717] and parameters: {'penalty': 'l2', 'C': 1.3874219209512861}.\n",
            "[I 2024-10-23 09:48:45,816] Trial 12 finished with values: [0.5006364793598836, 0.4420344421965203] and parameters: {'penalty': 'l1', 'C': 0.0008014690891032163}.\n",
            "[I 2024-10-23 09:48:46,730] Trial 13 finished with values: [0.5668303327877796, 0.5170085709112383] and parameters: {'penalty': 'l2', 'C': 0.001767724296383508}.\n",
            "[I 2024-10-23 09:48:48,646] Trial 14 finished with values: [0.7995999272595017, 0.7819226682022274] and parameters: {'penalty': 'l2', 'C': 213.55779932514048}.\n",
            "[I 2024-10-23 09:48:49,266] Trial 15 finished with values: [0.5051827605019095, 0.4450389013096405] and parameters: {'penalty': 'l2', 'C': 7.854299727265334e-05}.\n",
            "[I 2024-10-23 09:48:49,660] Trial 16 finished with values: [0.40589198036006546, 0.2537786308436186] and parameters: {'penalty': 'l1', 'C': 3.5979724511256445e-05}.\n",
            "[I 2024-10-23 09:48:52,036] Trial 17 finished with values: [0.7988725222767776, 0.7811549942508528] and parameters: {'penalty': 'l2', 'C': 143.61188326769783}.\n",
            "[I 2024-10-23 09:48:54,036] Trial 18 finished with values: [0.7999636297508638, 0.7822073403929277] and parameters: {'penalty': 'l2', 'C': 141.77161350521143}.\n",
            "[I 2024-10-23 09:49:07,041] Trial 19 finished with values: [0.7995999272595017, 0.7819231904644509] and parameters: {'penalty': 'l1', 'C': 3202.2373400104016}.\n",
            "[I 2024-10-23 09:49:07,676] Trial 20 finished with values: [0.5135479178032369, 0.45072246709886105] and parameters: {'penalty': 'l2', 'C': 0.00019155633925436625}.\n",
            "[I 2024-10-23 09:49:09,603] Trial 21 finished with values: [0.7988725222767776, 0.7811543796680023] and parameters: {'penalty': 'l2', 'C': 16.064481425092843}.\n",
            "/usr/local/lib/python3.10/dist-packages/sklearn/svm/_base.py:1235: ConvergenceWarning: Liblinear failed to converge, increase the number of iterations.\n",
            "  warnings.warn(\n",
            "[I 2024-10-23 09:49:15,406] Trial 22 finished with values: [0.751045644662666, 0.7319061017261163] and parameters: {'penalty': 'l1', 'C': 0.06549503375029432}.\n",
            "[I 2024-10-23 09:49:15,821] Trial 23 finished with values: [0.4175304600836516, 0.4221311378267007] and parameters: {'penalty': 'l1', 'C': 5.93904382379564e-05}.\n",
            "[I 2024-10-23 09:49:17,873] Trial 24 finished with values: [0.7990543735224587, 0.7812649875032324] and parameters: {'penalty': 'l2', 'C': 10.201694590592872}.\n",
            "/usr/local/lib/python3.10/dist-packages/sklearn/svm/_base.py:1235: ConvergenceWarning: Liblinear failed to converge, increase the number of iterations.\n",
            "  warnings.warn(\n",
            "[I 2024-10-23 09:49:19,444] Trial 25 finished with values: [0.5044553555191853, 0.43715307968215916] and parameters: {'penalty': 'l1', 'C': 0.0038163797881342306}.\n",
            "[I 2024-10-23 09:49:20,742] Trial 26 finished with values: [0.7675941080196399, 0.7489411358583827] and parameters: {'penalty': 'l2', 'C': 0.1095646718467916}.\n",
            "[I 2024-10-23 09:49:21,701] Trial 27 finished with values: [0.59683578832515, 0.5564372228293752] and parameters: {'penalty': 'l2', 'C': 0.0037739782369663496}.\n",
            "/usr/local/lib/python3.10/dist-packages/sklearn/svm/_base.py:1235: ConvergenceWarning: Liblinear failed to converge, increase the number of iterations.\n",
            "  warnings.warn(\n",
            "[I 2024-10-23 09:49:24,854] Trial 28 finished with values: [0.7195853791598472, 0.6974210229919741] and parameters: {'penalty': 'l1', 'C': 0.045984069938664565}.\n",
            "[I 2024-10-23 09:49:36,539] Trial 29 finished with values: [0.8001454809965448, 0.7824207822111321] and parameters: {'penalty': 'l1', 'C': 155.6409008841442}.\n",
            "[I 2024-10-23 09:49:38,694] Trial 30 finished with values: [0.7992362247681397, 0.7814394584658645] and parameters: {'penalty': 'l2', 'C': 5245.537671496298}.\n",
            "[I 2024-10-23 09:49:48,986] Trial 31 finished with values: [0.7995999272595017, 0.7816289451375513] and parameters: {'penalty': 'l1', 'C': 10.636735899310422}.\n",
            "[I 2024-10-23 09:49:50,844] Trial 32 finished with values: [0.7977814148026914, 0.7798921701725857] and parameters: {'penalty': 'l2', 'C': 3.0250245637368414}.\n",
            "[I 2024-10-23 09:49:51,432] Trial 33 finished with values: [0.5060920167303146, 0.4448340890310914] and parameters: {'penalty': 'l2', 'C': 5.965741151398317e-05}.\n",
            "/usr/local/lib/python3.10/dist-packages/sklearn/svm/_base.py:1235: ConvergenceWarning: Liblinear failed to converge, increase the number of iterations.\n",
            "  warnings.warn(\n",
            "[I 2024-10-23 09:49:59,236] Trial 34 finished with values: [0.7657755955628296, 0.7472028937498317] and parameters: {'penalty': 'l1', 'C': 0.08171541269311357}.\n",
            "[I 2024-10-23 09:50:02,707] Trial 35 finished with values: [0.7988725222767776, 0.78124945549301] and parameters: {'penalty': 'l2', 'C': 68568.98319322919}.\n",
            "[I 2024-10-23 09:50:17,927] Trial 36 finished with values: [0.8001454809965448, 0.782518021543036] and parameters: {'penalty': 'l1', 'C': 885.7910000897808}.\n",
            "[I 2024-10-23 09:50:18,288] Trial 37 finished with values: [0.4302600472813239, 0.20055096418732785] and parameters: {'penalty': 'l1', 'C': 3.1594490640053125e-05}.\n",
            "[I 2024-10-23 09:50:20,488] Trial 38 finished with values: [0.7988725222767776, 0.7814332378369045] and parameters: {'penalty': 'l2', 'C': 18.863754836695257}.\n",
            "[I 2024-10-23 09:50:33,364] Trial 39 finished with values: [0.7997817785051827, 0.7821096411243528] and parameters: {'penalty': 'l1', 'C': 1881.7742264906685}.\n",
            "[I 2024-10-23 09:50:44,914] Trial 40 finished with values: [0.80105473722495, 0.783317071646056] and parameters: {'penalty': 'l1', 'C': 2.957870798507889}.\n",
            "[I 2024-10-23 09:50:46,919] Trial 41 finished with values: [0.7988725222767776, 0.7811222330176594] and parameters: {'penalty': 'l2', 'C': 15561.975484610351}.\n",
            "[I 2024-10-23 09:50:49,289] Trial 42 finished with values: [0.7995999272595017, 0.7818037918535908] and parameters: {'penalty': 'l2', 'C': 12.405762692343021}.\n",
            "/usr/local/lib/python3.10/dist-packages/sklearn/svm/_base.py:1235: ConvergenceWarning: Liblinear failed to converge, increase the number of iterations.\n",
            "  warnings.warn(\n",
            "[I 2024-10-23 09:50:52,165] Trial 43 finished with values: [0.563738861611202, 0.5169851898416642] and parameters: {'penalty': 'l1', 'C': 0.011821034543683799}.\n",
            "[I 2024-10-23 09:50:54,060] Trial 44 finished with values: [0.7990543735224587, 0.7812836744988085] and parameters: {'penalty': 'l2', 'C': 81604.57830363853}.\n",
            "[I 2024-10-23 09:51:06,959] Trial 45 finished with values: [0.7995999272595017, 0.781820656583483] and parameters: {'penalty': 'l1', 'C': 22.753253816827005}.\n",
            "[I 2024-10-23 09:51:20,372] Trial 46 finished with values: [0.8001454809965448, 0.7824172208549541] and parameters: {'penalty': 'l1', 'C': 54.044284882164874}.\n",
            "[I 2024-10-23 09:51:21,969] Trial 47 finished with values: [0.795417348608838, 0.7775989807710451] and parameters: {'penalty': 'l2', 'C': 0.5464899341167496}.\n",
            "[I 2024-10-23 09:51:23,618] Trial 48 finished with values: [0.7946899436261139, 0.7766422080511108] and parameters: {'penalty': 'l2', 'C': 0.786237816841984}.\n",
            "[I 2024-10-23 09:51:33,711] Trial 49 finished with values: [0.7995999272595017, 0.781820656583483] and parameters: {'penalty': 'l1', 'C': 22.070636510128235}.\n"
          ]
        }
      ],
      "source": [
        "# Run Optuna optimization for Logistic Regression\n",
        "study_logistic = optuna.create_study(directions=[\"maximize\", \"maximize\"], study_name=\"Logistic_Regression_Optimization\")  # Multi-objective optimization for both F1 and accuracy\n",
        "study_logistic.optimize(objective_logistic_regression, n_trials=50)"
      ]
    },
    {
      "cell_type": "code",
      "execution_count": null,
      "metadata": {
        "colab": {
          "base_uri": "https://localhost:8080/"
        },
        "id": "271-Dl_5jn-2",
        "outputId": "769491f9-2893-421c-8a8c-70e7fc05552a"
      },
      "outputs": [
        {
          "name": "stderr",
          "output_type": "stream",
          "text": [
            "2024/10/23 09:51:46 INFO mlflow.tracking._tracking_service.client: 🏃 View run Logistic Regression at: https://dagshub.com/dakshvandanarathi/YT-Sentiment-Analyser.mlflow/#/experiments/5/runs/5412eef1abdd4a4ea0f79fde0b99d8de.\n",
            "2024/10/23 09:51:46 INFO mlflow.tracking._tracking_service.client: 🧪 View experiment at: https://dagshub.com/dakshvandanarathi/YT-Sentiment-Analyser.mlflow/#/experiments/5.\n"
          ]
        }
      ],
      "source": [
        "best_trial = sorted(study_logistic.best_trials, key=lambda t: t.values[0], reverse=True)[0]\n",
        "\n",
        "with mlflow.start_run() as run:\n",
        "    mlflow.set_tag(\"mlflow.runName\", \"Logistic Regression\")\n",
        "    mlflow.set_tag(\"resampling_technique\", \"Adasyn\")\n",
        "    mlflow.set_tag(\"vectorizer_type\", \"TF-IDF\")\n",
        "\n",
        "    # Log best trial parameters\n",
        "    mlflow.log_params(best_trial.params)\n",
        "\n",
        "    # Log algorithm name as a parameter\n",
        "    mlflow.log_param(\"algo_name\", \"LogisticRegression\")\n",
        "\n",
        "    # Extract parameters from the best trial\n",
        "    best_params = best_trial.params\n",
        "\n",
        "    # Initialize the model using the best trial parameters with unpacking (**)\n",
        "    model = LogisticRegression(solver='liblinear', random_state=42, **best_trial.params)\n",
        "\n",
        "    # Train the model on the resampled training data\n",
        "    model.fit(X_resampled, y_resampled)\n",
        "\n",
        "    # Predictions on the test set\n",
        "    y_test_pred = model.predict(X_test_combined)\n",
        "\n",
        "    # Log classification metrics\n",
        "    classification_rep = classification_report(y_test, y_test_pred, output_dict=True)\n",
        "    accuracy = accuracy_score(y_test, y_test_pred)\n",
        "\n",
        "    # Log accuracy\n",
        "    mlflow.log_metric(\"accuracy\", accuracy)\n",
        "\n",
        "    # Log each metric from classification report\n",
        "    for label, metrics in classification_rep.items():\n",
        "        if isinstance(metrics, dict):\n",
        "            for metric, value in metrics.items():\n",
        "                mlflow.log_metric(f\"{label}_{metric}\", value)\n",
        "\n",
        "    # Generate and log confusion matrix\n",
        "    conf_matrix = confusion_matrix(y_test, y_test_pred)\n",
        "    plt.figure(figsize=(8, 6))\n",
        "    sns.heatmap(conf_matrix, annot=True, fmt=\"d\", cmap=\"Blues\")\n",
        "    plt.xlabel(\"Predicted\")\n",
        "    plt.ylabel(\"Actual\")\n",
        "    plt.title(f\"Confusion Matrix - Logistic Regression\")\n",
        "\n",
        "    # Save and log the confusion matrix plot\n",
        "    confusion_matrix_filename = \"confusion_matrix.png\"\n",
        "    plt.savefig(confusion_matrix_filename)\n",
        "    mlflow.log_artifact(confusion_matrix_filename)\n",
        "    plt.close()"
      ]
    },
    {
      "cell_type": "markdown",
      "metadata": {
        "id": "MHoSLOM3niG1"
      },
      "source": [
        "### Multinomial Naive Bayes"
      ]
    },
    {
      "cell_type": "code",
      "execution_count": null,
      "metadata": {
        "colab": {
          "base_uri": "https://localhost:8080/"
        },
        "id": "l2LKxG7PnmH2",
        "outputId": "7508ce06-b489-48dc-ad48-4dcbf4c81b7c"
      },
      "outputs": [
        {
          "name": "stderr",
          "output_type": "stream",
          "text": [
            "[I 2024-10-24 08:25:29,765] A new study created in memory with name: Naive_Bayes_Optimization\n",
            "[I 2024-10-24 08:25:30,214] Trial 0 finished with values: [0.557919621749409, 0.5191557622053091] and parameters: {'alpha': 0.7080491493292391, 'fit_prior': False}.\n",
            "[I 2024-10-24 08:25:30,632] Trial 1 finished with values: [0.5664666302964175, 0.5298811868260508] and parameters: {'alpha': 0.4526476824633391, 'fit_prior': False}.\n",
            "[I 2024-10-24 08:25:31,388] Trial 2 finished with values: [0.574286233860702, 0.53997252314588] and parameters: {'alpha': 0.22093838970238902, 'fit_prior': False}.\n",
            "[I 2024-10-24 08:25:32,137] Trial 3 finished with values: [0.5686488452445899, 0.5323770101194776] and parameters: {'alpha': 0.4564962332724106, 'fit_prior': True}.\n",
            "[I 2024-10-24 08:25:32,631] Trial 4 finished with values: [0.5686488452445899, 0.5326604776987353] and parameters: {'alpha': 0.37260180593768427, 'fit_prior': False}.\n",
            "[I 2024-10-24 08:25:33,073] Trial 5 finished with values: [0.5702855064557192, 0.5344580702496377] and parameters: {'alpha': 0.376622487266484, 'fit_prior': True}.\n",
            "[I 2024-10-24 08:25:33,474] Trial 6 finished with values: [0.569194398981633, 0.5332463052173039] and parameters: {'alpha': 0.33625364670002383, 'fit_prior': False}.\n",
            "[I 2024-10-24 08:25:33,827] Trial 7 finished with values: [0.5553737043098745, 0.5156519696586367] and parameters: {'alpha': 0.986604354025056, 'fit_prior': True}.\n",
            "[I 2024-10-24 08:25:34,142] Trial 8 finished with values: [0.5724677214038916, 0.5375503409959782] and parameters: {'alpha': 0.3121390295213113, 'fit_prior': True}.\n",
            "[I 2024-10-24 08:25:34,449] Trial 9 finished with values: [0.563557010365521, 0.5261416647615961] and parameters: {'alpha': 0.6124938696152673, 'fit_prior': True}.\n",
            "[I 2024-10-24 08:25:34,769] Trial 10 finished with values: [0.5619203491543917, 0.5243316717963734] and parameters: {'alpha': 0.5330451183330748, 'fit_prior': False}.\n",
            "[I 2024-10-24 08:25:35,059] Trial 11 finished with values: [0.5531914893617021, 0.5132150133571736] and parameters: {'alpha': 0.8703831473410132, 'fit_prior': False}.\n",
            "[I 2024-10-24 08:25:35,338] Trial 12 finished with values: [0.5530096381160211, 0.5129214303832544] and parameters: {'alpha': 0.8738555953244416, 'fit_prior': False}.\n",
            "[I 2024-10-24 08:25:35,613] Trial 13 finished with values: [0.569194398981633, 0.5331267075411027] and parameters: {'alpha': 0.43596099351367446, 'fit_prior': True}.\n",
            "[I 2024-10-24 08:25:35,931] Trial 14 finished with values: [0.580105473722495, 0.5471549273808595] and parameters: {'alpha': 0.14319112755795826, 'fit_prior': True}.\n",
            "[I 2024-10-24 08:25:36,224] Trial 15 finished with values: [0.5621022004000727, 0.5242969981032114] and parameters: {'alpha': 0.689059876803779, 'fit_prior': True}.\n",
            "[I 2024-10-24 08:25:36,577] Trial 16 finished with values: [0.5613747954173486, 0.5236357529834227] and parameters: {'alpha': 0.5622444439731831, 'fit_prior': False}.\n",
            "[I 2024-10-24 08:25:36,816] Trial 17 finished with values: [0.5566466630296417, 0.51767353734167] and parameters: {'alpha': 0.7413867253817492, 'fit_prior': False}.\n",
            "[I 2024-10-24 08:25:37,002] Trial 18 finished with values: [0.5606473904346245, 0.5228167932905987] and parameters: {'alpha': 0.5743554680626609, 'fit_prior': False}.\n",
            "[I 2024-10-24 08:25:37,185] Trial 19 finished with values: [0.5790143662484089, 0.5459065823064239] and parameters: {'alpha': 0.18307385983905664, 'fit_prior': True}.\n",
            "[I 2024-10-24 08:25:37,361] Trial 20 finished with values: [0.5599199854519004, 0.5216043570223303] and parameters: {'alpha': 0.7776191748412947, 'fit_prior': True}.\n",
            "[I 2024-10-24 08:25:37,540] Trial 21 finished with values: [0.5675577377705038, 0.5312863792120638] and parameters: {'alpha': 0.43051372442792574, 'fit_prior': False}.\n",
            "[I 2024-10-24 08:25:37,729] Trial 22 finished with values: [0.5902891434806329, 0.5584271871163458] and parameters: {'alpha': 0.007906814922683086, 'fit_prior': False}.\n",
            "[I 2024-10-24 08:25:37,937] Trial 23 finished with values: [0.552464084378978, 0.512278638446466] and parameters: {'alpha': 0.9044172688253176, 'fit_prior': False}.\n",
            "[I 2024-10-24 08:25:38,423] Trial 24 finished with values: [0.5644662665939262, 0.5272632623881642] and parameters: {'alpha': 0.4931754838533406, 'fit_prior': False}.\n",
            "[I 2024-10-24 08:25:38,890] Trial 25 finished with values: [0.55810147299509, 0.5194513837548018] and parameters: {'alpha': 0.689099453295282, 'fit_prior': False}.\n",
            "[I 2024-10-24 08:25:39,317] Trial 26 finished with values: [0.5679214402618658, 0.5318122134810818] and parameters: {'alpha': 0.40861960810350456, 'fit_prior': False}.\n",
            "[I 2024-10-24 08:25:39,777] Trial 27 finished with values: [0.563738861611202, 0.5262808373350638] and parameters: {'alpha': 0.6066086007858179, 'fit_prior': True}.\n",
            "[I 2024-10-24 08:25:40,124] Trial 28 finished with values: [0.5553737043098745, 0.5156519696586367] and parameters: {'alpha': 0.9830211782906961, 'fit_prior': True}.\n",
            "[I 2024-10-24 08:25:40,471] Trial 29 finished with values: [0.5755591925804692, 0.5417981332201888] and parameters: {'alpha': 0.20805691064317655, 'fit_prior': False}.\n",
            "[I 2024-10-24 08:25:40,812] Trial 30 finished with values: [0.5828332424077105, 0.5500250866268639] and parameters: {'alpha': 0.09293370532212374, 'fit_prior': True}.\n",
            "[I 2024-10-24 08:25:41,136] Trial 31 finished with values: [0.5591925804691762, 0.5205663465267752] and parameters: {'alpha': 0.8139955588175586, 'fit_prior': True}.\n",
            "[I 2024-10-24 08:25:41,439] Trial 32 finished with values: [0.5628296053827969, 0.5254362984240141] and parameters: {'alpha': 0.5157135721015845, 'fit_prior': False}.\n",
            "[I 2024-10-24 08:25:41,898] Trial 33 finished with values: [0.5786506637570468, 0.5456162680041193] and parameters: {'alpha': 0.12813002874753443, 'fit_prior': False}.\n",
            "[I 2024-10-24 08:25:42,182] Trial 34 finished with values: [0.5593744317148572, 0.5208588923268387] and parameters: {'alpha': 0.8079849095718026, 'fit_prior': True}.\n",
            "[I 2024-10-24 08:25:42,467] Trial 35 finished with values: [0.5595562829605383, 0.5214212358000733] and parameters: {'alpha': 0.6347656975480352, 'fit_prior': False}.\n",
            "[I 2024-10-24 08:25:42,759] Trial 36 finished with values: [0.5848336061102019, 0.5521712389035371] and parameters: {'alpha': 0.06377232316095718, 'fit_prior': True}.\n",
            "[I 2024-10-24 08:25:43,104] Trial 37 finished with values: [0.5766503000545554, 0.5431237933698861] and parameters: {'alpha': 0.174808814557622, 'fit_prior': False}.\n",
            "[I 2024-10-24 08:25:43,407] Trial 38 finished with values: [0.5661029278050554, 0.5292456006849694] and parameters: {'alpha': 0.5629003505840061, 'fit_prior': True}.\n",
            "[I 2024-10-24 08:25:43,698] Trial 39 finished with values: [0.5842880523731587, 0.5515992160119191] and parameters: {'alpha': 0.07757643623182991, 'fit_prior': True}.\n",
            "[I 2024-10-24 08:25:44,243] Trial 40 finished with values: [0.5591925804691762, 0.5205663465267752] and parameters: {'alpha': 0.8133889650877333, 'fit_prior': True}.\n",
            "[I 2024-10-24 08:25:44,777] Trial 41 finished with values: [0.5897435897435898, 0.5578254774214716] and parameters: {'alpha': 0.010196893081674131, 'fit_prior': False}.\n",
            "[I 2024-10-24 08:25:45,242] Trial 42 finished with values: [0.5670121840334607, 0.5305546672078495] and parameters: {'alpha': 0.444543757665734, 'fit_prior': False}.\n",
            "[I 2024-10-24 08:25:45,633] Trial 43 finished with values: [0.5779232587743226, 0.5445804374009806] and parameters: {'alpha': 0.14716690272907934, 'fit_prior': False}.\n",
            "[I 2024-10-24 08:25:46,150] Trial 44 finished with values: [0.5517366793962538, 0.5112314531146875] and parameters: {'alpha': 0.9450013273005622, 'fit_prior': False}.\n",
            "[I 2024-10-24 08:25:46,499] Trial 45 finished with values: [0.5615566466630296, 0.5238813442971538] and parameters: {'alpha': 0.5471771620494524, 'fit_prior': False}.\n",
            "[I 2024-10-24 08:25:47,015] Trial 46 finished with values: [0.5628296053827969, 0.525413989314183] and parameters: {'alpha': 0.6533775414848652, 'fit_prior': True}.\n",
            "[I 2024-10-24 08:25:47,442] Trial 47 finished with values: [0.5722858701582105, 0.5375176996042099] and parameters: {'alpha': 0.27543183748895506, 'fit_prior': False}.\n",
            "[I 2024-10-24 08:25:47,912] Trial 48 finished with values: [0.557919621749409, 0.5191557622053091] and parameters: {'alpha': 0.7071253838056625, 'fit_prior': False}.\n",
            "[I 2024-10-24 08:25:48,285] Trial 49 finished with values: [0.5704673577014002, 0.534742840395869] and parameters: {'alpha': 0.3730021679907901, 'fit_prior': True}.\n",
            "[I 2024-10-24 08:25:48,772] Trial 50 finished with values: [0.55810147299509, 0.5192034785361674] and parameters: {'alpha': 0.8714108639009638, 'fit_prior': True}.\n",
            "[I 2024-10-24 08:25:49,146] Trial 51 finished with values: [0.5671940352791417, 0.5304441626997937] and parameters: {'alpha': 0.5330451183330748, 'fit_prior': True}.\n",
            "[I 2024-10-24 08:25:49,491] Trial 52 finished with values: [0.5550100018185125, 0.515432494101374] and parameters: {'alpha': 0.8139955588175586, 'fit_prior': False}.\n",
            "[I 2024-10-24 08:25:49,853] Trial 53 finished with values: [0.5588288779778141, 0.5201561569738856] and parameters: {'alpha': 0.8358384060083355, 'fit_prior': True}.\n",
            "[I 2024-10-24 08:25:50,223] Trial 54 finished with values: [0.5835606473904347, 0.5508575800312465] and parameters: {'alpha': 0.08217779868473202, 'fit_prior': True}.\n",
            "[I 2024-10-24 08:25:50,458] Trial 55 finished with values: [0.574286233860702, 0.53997252314588] and parameters: {'alpha': 0.22102020323100546, 'fit_prior': False}.\n",
            "[I 2024-10-24 08:25:50,768] Trial 56 finished with values: [0.580105473722495, 0.5471549273808595] and parameters: {'alpha': 0.14319112755795826, 'fit_prior': True}.\n",
            "[I 2024-10-24 08:25:51,056] Trial 57 finished with values: [0.5790143662484089, 0.5459065823064239] and parameters: {'alpha': 0.18307385983905664, 'fit_prior': True}.\n",
            "[I 2024-10-24 08:25:51,352] Trial 58 finished with values: [0.5764684488088744, 0.5428482601400689] and parameters: {'alpha': 0.18393121442629817, 'fit_prior': False}.\n",
            "[I 2024-10-24 08:25:51,645] Trial 59 finished with values: [0.5681032915075468, 0.5319954394559685] and parameters: {'alpha': 0.4023076809219274, 'fit_prior': False}.\n"
          ]
        }
      ],
      "source": [
        "from sklearn.naive_bayes import MultinomialNB\n",
        "\n",
        "# Define the Optuna objective function\n",
        "def objective(trial):\n",
        "    # Hyperparameters to optimize\n",
        "    alpha = trial.suggest_float(\"alpha\", 1e-4, 1.0)  # Laplace smoothing parameter\n",
        "    fit_prior = trial.suggest_categorical(\"fit_prior\", [True, False])  # Whether to learn class prior probabilities\n",
        "\n",
        "    # Initialize the Naive Bayes model with the suggested hyperparameters\n",
        "    model = MultinomialNB(\n",
        "        alpha=alpha,\n",
        "        fit_prior=fit_prior,\n",
        "    )\n",
        "\n",
        "    # Fit the model on the resampled training data\n",
        "    model.fit(X_resampled, y_resampled)\n",
        "\n",
        "    # Evaluate the model on the validation set\n",
        "    f1, accuracy = evaluate_model(model, X_val_combined, y_val)\n",
        "\n",
        "    return accuracy, f1\n",
        "\n",
        "# Run Optuna optimization\n",
        "study = optuna.create_study(directions=[\"maximize\", \"maximize\"], study_name=\"Naive_Bayes_Optimization\")\n",
        "study.optimize(objective, n_trials=60)"
      ]
    },
    {
      "cell_type": "code",
      "execution_count": null,
      "metadata": {
        "colab": {
          "base_uri": "https://localhost:8080/"
        },
        "id": "pYVoio_gn798",
        "outputId": "a6f5c3a9-735b-4d35-bcdd-771dfd48902b"
      },
      "outputs": [
        {
          "name": "stderr",
          "output_type": "stream",
          "text": [
            "2024/10/24 08:27:04 INFO mlflow.tracking._tracking_service.client: 🏃 View run Mutlinomial Naive Bayes at: https://dagshub.com/dakshvandanarathi/YT-Sentiment-Analyser.mlflow/#/experiments/5/runs/4c600b472b3c41a3822ba1719be414f1.\n",
            "2024/10/24 08:27:04 INFO mlflow.tracking._tracking_service.client: 🧪 View experiment at: https://dagshub.com/dakshvandanarathi/YT-Sentiment-Analyser.mlflow/#/experiments/5.\n"
          ]
        }
      ],
      "source": [
        "best_trial = sorted(study.best_trials, key=lambda t: t.values[0], reverse=True)[0]\n",
        "\n",
        "with mlflow.start_run() as run:\n",
        "    mlflow.set_tag(\"mlflow.runName\", \"Mutlinomial Naive Bayes\")\n",
        "    mlflow.set_tag(\"resampling_technique\", \"Adasyn\")\n",
        "    mlflow.set_tag(\"vectorizer_type\", \"TF-IDF\")\n",
        "\n",
        "    # Log best trial parameters\n",
        "    mlflow.log_params(best_trial.params)\n",
        "\n",
        "    # Log algorithm name as a parameter\n",
        "    mlflow.log_param(\"algo_name\", \"MutlinomialNB\")\n",
        "\n",
        "    # Extract parameters from the best trial\n",
        "    best_params = best_trial.params\n",
        "\n",
        "    # Initialize the model using the best trial parameters with unpacking (**)\n",
        "    model = MultinomialNB(**best_trial.params)\n",
        "\n",
        "    # Train the model on the resampled training data\n",
        "    model.fit(X_resampled, y_resampled)\n",
        "\n",
        "    # Predictions on the test set\n",
        "    y_test_pred = model.predict(X_test_combined)\n",
        "\n",
        "    # Log classification metrics\n",
        "    classification_rep = classification_report(y_test, y_test_pred, output_dict=True)\n",
        "    accuracy = accuracy_score(y_test, y_test_pred)\n",
        "\n",
        "    # Log accuracy\n",
        "    mlflow.log_metric(\"accuracy\", accuracy)\n",
        "\n",
        "    # Log each metric from classification report\n",
        "    for label, metrics in classification_rep.items():\n",
        "        if isinstance(metrics, dict):\n",
        "            for metric, value in metrics.items():\n",
        "                mlflow.log_metric(f\"{label}_{metric}\", value)\n",
        "\n",
        "    # Generate and log confusion matrix\n",
        "    conf_matrix = confusion_matrix(y_test, y_test_pred)\n",
        "    plt.figure(figsize=(8, 6))\n",
        "    sns.heatmap(conf_matrix, annot=True, fmt=\"d\", cmap=\"Blues\")\n",
        "    plt.xlabel(\"Predicted\")\n",
        "    plt.ylabel(\"Actual\")\n",
        "    plt.title(f\"Confusion Matrix - Mutlinomial Naive Bayes\")\n",
        "\n",
        "    # Save and log the confusion matrix plot\n",
        "    confusion_matrix_filename = \"confusion_matrix.png\"\n",
        "    plt.savefig(confusion_matrix_filename)\n",
        "    mlflow.log_artifact(confusion_matrix_filename)\n",
        "    plt.close()"
      ]
    },
    {
      "cell_type": "markdown",
      "metadata": {
        "id": "nqOLfF7-rqDN"
      },
      "source": [
        "### SVM"
      ]
    },
    {
      "cell_type": "code",
      "execution_count": null,
      "metadata": {
        "id": "3xUG-EWorU8W"
      },
      "outputs": [],
      "source": [
        "from sklearn.svm import SVC\n",
        "\n",
        "# Define the Optuna objective function\n",
        "def objective(trial):\n",
        "    # Hyperparameters to optimize\n",
        "    C = trial.suggest_float(\"C\", 1e-4, 1e2, log=True)  # Regularization strength\n",
        "    kernel = trial.suggest_categorical(\"kernel\", [\"linear\", \"rbf\", \"poly\"])  # Kernel type\n",
        "\n",
        "    # Initialize the SVM model with the suggested hyperparameters\n",
        "    model = SVC(\n",
        "        C=C,\n",
        "        kernel=kernel,\n",
        "        random_state=42\n",
        "    )\n",
        "\n",
        "    # Fit the model on the resampled training data\n",
        "    model.fit(X_resampled, y_resampled)\n",
        "\n",
        "    # Evaluate the model on the validation set\n",
        "    f1, accuracy = evaluate_model(model, X_val_combined, y_val)\n",
        "\n",
        "    return accuracy, f1"
      ]
    },
    {
      "cell_type": "code",
      "execution_count": null,
      "metadata": {
        "colab": {
          "background_save": true,
          "base_uri": "https://localhost:8080/"
        },
        "id": "Qz1vSvSxsDiu",
        "outputId": "26c24ae8-65f7-4ed8-e621-f0f49cebd73c"
      },
      "outputs": [
        {
          "metadata": {
            "tags": null
          },
          "name": "stderr",
          "output_type": "stream",
          "text": [
            "[I 2024-10-24 08:28:46,148] A new study created in memory with name: SVM_Optimization\n",
            "[I 2024-10-24 08:55:30,197] Trial 0 finished with values: [0.4302600472813239, 0.20055096418732785] and parameters: {'C': 0.0002264060589291917, 'kernel': 'rbf'}.\n",
            "[I 2024-10-24 09:20:15,927] Trial 1 finished with values: [0.3800691034733588, 0.22711097228423652] and parameters: {'C': 0.0001540325763345921, 'kernel': 'poly'}.\n",
            "[I 2024-10-24 09:52:30,732] Trial 2 finished with values: [0.4057101291143844, 0.2631982937338477] and parameters: {'C': 0.49191525462186, 'kernel': 'poly'}.\n",
            "[I 2024-10-24 10:17:09,315] Trial 3 finished with values: [0.4813602473176941, 0.4464928778612219] and parameters: {'C': 11.538259929917475, 'kernel': 'rbf'}.\n"
          ]
        }
      ],
      "source": [
        "# Run Optuna optimization\n",
        "study_svm = optuna.create_study(directions=[\"maximize\", \"maximize\"], study_name=\"SVM_Optimization\")\n",
        "study_svm.optimize(objective, n_trials=50)"
      ]
    },
    {
      "cell_type": "code",
      "execution_count": null,
      "metadata": {
        "id": "l5jez_sly4I_"
      },
      "outputs": [],
      "source": []
    }
  ],
  "metadata": {
    "colab": {
      "provenance": []
    },
    "kernelspec": {
      "display_name": "Python 3",
      "name": "python3"
    },
    "language_info": {
      "name": "python"
    },
    "widgets": {
      "application/vnd.jupyter.widget-state+json": {
        "d8cca92ac2b74709b5b6a095fb61db8a": {
          "model_module": "@jupyter-widgets/output",
          "model_module_version": "1.0.0",
          "model_name": "OutputModel",
          "state": {
            "_dom_classes": [],
            "_model_module": "@jupyter-widgets/output",
            "_model_module_version": "1.0.0",
            "_model_name": "OutputModel",
            "_view_count": null,
            "_view_module": "@jupyter-widgets/output",
            "_view_module_version": "1.0.0",
            "_view_name": "OutputView",
            "layout": "IPY_MODEL_e7362dfcf69e4a67b5e8f2619d15cead",
            "msg_id": "",
            "outputs": [
              {
                "data": {
                  "text/html": "<pre style=\"white-space:pre;overflow-x:auto;line-height:normal;font-family:Menlo,'DejaVu Sans Mono',consolas,'Courier New',monospace\"><span style=\"color: #008000; text-decoration-color: #008000\">⠙</span> Waiting for authorization\n</pre>\n",
                  "text/plain": "\u001b[32m⠙\u001b[0m Waiting for authorization\n"
                },
                "metadata": {},
                "output_type": "display_data"
              }
            ]
          }
        },
        "e7362dfcf69e4a67b5e8f2619d15cead": {
          "model_module": "@jupyter-widgets/base",
          "model_module_version": "1.2.0",
          "model_name": "LayoutModel",
          "state": {
            "_model_module": "@jupyter-widgets/base",
            "_model_module_version": "1.2.0",
            "_model_name": "LayoutModel",
            "_view_count": null,
            "_view_module": "@jupyter-widgets/base",
            "_view_module_version": "1.2.0",
            "_view_name": "LayoutView",
            "align_content": null,
            "align_items": null,
            "align_self": null,
            "border": null,
            "bottom": null,
            "display": null,
            "flex": null,
            "flex_flow": null,
            "grid_area": null,
            "grid_auto_columns": null,
            "grid_auto_flow": null,
            "grid_auto_rows": null,
            "grid_column": null,
            "grid_gap": null,
            "grid_row": null,
            "grid_template_areas": null,
            "grid_template_columns": null,
            "grid_template_rows": null,
            "height": null,
            "justify_content": null,
            "justify_items": null,
            "left": null,
            "margin": null,
            "max_height": null,
            "max_width": null,
            "min_height": null,
            "min_width": null,
            "object_fit": null,
            "object_position": null,
            "order": null,
            "overflow": null,
            "overflow_x": null,
            "overflow_y": null,
            "padding": null,
            "right": null,
            "top": null,
            "visibility": null,
            "width": null
          }
        }
      }
    }
  },
  "nbformat": 4,
  "nbformat_minor": 0
}